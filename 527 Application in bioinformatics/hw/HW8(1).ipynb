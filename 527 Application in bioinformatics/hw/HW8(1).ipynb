{
 "cells": [
  {
   "cell_type": "markdown",
   "metadata": {},
   "source": [
    "# BF527: Applications in Bioinformatics\n",
    "\n",
    ">**Note:** Please submit the Jupyter notebook through Blackboard. Your code should follow the guidelines laid out in class, including commenting. Partial credit will be given for nonfunctional code that is logical and well commented. This assignment must be completed on your own.\n",
    "\n",
    "## Homework 8\n",
    "\n",
    "### See [Blackboard](https://learn.bu.edu) for assignment and due dates\n",
    "\n",
    "---"
   ]
  },
  {
   "cell_type": "markdown",
   "metadata": {},
   "source": [
    "## Problem 8.1 (40%):\n",
    "\n",
    "#### Go to the PDB website and open the page for the structure with PDB ID 3BMP.\n",
    "\n",
    "* Use __Pfam__, Uniprot, Google or Wikipedia to find some information about this protein. How long is the protein? Which superfamily does the protein belong to? What is the protein’s function, and the evolutionary history of the superfamily? What domains and enzymatic properties does the protein have?"
   ]
  },
  {
   "cell_type": "raw",
   "metadata": {},
   "source": [
    "The protein is 114 amino acid long. \n",
    "\n",
    "3 BMP belong to transforming growth factor beta (TGFbeta) superfamily. \n",
    "\n",
    "As given in Pubmed, 3BMP induces bone formation and regeneration, and determines important steps during early stages of embryonic development in vertebrates and non-vertebrates.A phylogenetic tree constructed from  sequences of this family shows that the family evolved from a common ancestral gene that came into existence at about the time of arthropod and chordate divergence. \n",
    "\n",
    "The protein has conserved domain -Transforming growth factor-beta (TGF-beta) family which are active as disulphide-linked homo- or heterodimers. TGFB is a multifunctional peptide that controls proliferation, differentiation, and other functions in many cell types. BMP-2 can interact with two types of receptor chains, as well as with proteins of the extracellular matrix and several regulatory proteins. \n"
   ]
  },
  {
   "cell_type": "markdown",
   "metadata": {},
   "source": [
    "#### Explore the 3D structure of “3BMP” using the \"3D View\" tab on the PDB website.\n",
    "\n",
    "* Generate two informative pictures of this structure by manipulating the various style options (you can fine tune these options through the right-click menu). Include screen shots with your homework submission and explain the biological meaning of the different styles."
   ]
  },
  {
   "cell_type": "raw",
   "metadata": {},
   "source": [
    "As given in PDB, the asymmetric unit is the smallest portion of a crystal structure to which symmetry operations can be applied in order to generate the complete unit cell (the crystal repeating unit). Symmetry operations most common to crystals of biological macromolecules are rotations, translations and screw axes (combinations of rotation and translation).\n",
    "\n",
    "However, the biological assembly (also sometimes referred to as the biological unit) is the macromolecular assembly that has either been shown to be or is believed to be the functional form of the molecule. For example, the functional form of hemoglobin has four chains.\n"
   ]
  },
  {
   "cell_type": "markdown",
   "metadata": {},
   "source": [
    "#### Use the other information tabs to answer the remaining questions.\n",
    "\n",
    "* There are some “dots” buried in the structure—what do these represent? __Hint: try hovering over them with your pointer.__"
   ]
  },
  {
   "cell_type": "raw",
   "metadata": {},
   "source": [
    "These dots are atoms."
   ]
  },
  {
   "cell_type": "markdown",
   "metadata": {},
   "source": [
    "* Describe the secondary structure composition of this protein. Is there a prevalence of one type of secondary structure?"
   ]
  },
  {
   "cell_type": "raw",
   "metadata": {},
   "source": [
    "The secondary structure is primarily beta sheets.The percentage given in PDB is 42% beta sheet (10 strands; 48 residues). These strands form a defining structural feature of two finger-like double-stranded beta-sheets . Yes, beta sheet is more prevalent than the alpha helices It consist of 10% helical (1 helices; 12 residues).\n",
    "\n",
    "The cysteine knot is formed by six cysteine residues. This serves to stabilize the structure of the protein without a hydrophobic core. The combination of these major structural elements likens the topology of BMP2 as a hand; the helix mimics the wrist, the cysteine the palm, and beta-sheets the fingers. A member of the transforming growth factor beta family (TGF-beta), BMP2 shares 90% similarity with other BMP proteins. It has also been shown that, though only 30% sequence identity is conserved between BMP7 and TGF-beta2, the 3D structures are nearly identical.\n",
    "\n",
    "\n",
    "\n"
   ]
  },
  {
   "cell_type": "markdown",
   "metadata": {},
   "source": [
    "* Does the protein belong to a family recognized by SCOP, CATH, and/or PFam?"
   ]
  },
  {
   "cell_type": "raw",
   "metadata": {},
   "source": [
    "Yes, the protein belong to a family recognized by SCOP and Pfam. But in CATH the family is Cystine-knot cytokines."
   ]
  },
  {
   "cell_type": "markdown",
   "metadata": {},
   "source": [
    "* Is the protein similar to any other human proteins? To what degree?\n",
    "\n",
    "__Hints__: You can download a fasta record from the PDB website. You can restrict blast to only look in the human database."
   ]
  },
  {
   "cell_type": "raw",
   "metadata": {},
   "source": [
    "Yes, the human protein similar to 3BMP is Chain A, COMPLEX BETWEEN BMP-2 AND TWO BMP RECEPTOR IA ECTODOMAINS protein. It is 100% identical  with significant E value of 9e-84."
   ]
  },
  {
   "cell_type": "markdown",
   "metadata": {},
   "source": [
    "* How was the 3D structure and view of this protein generated?\n",
    "\n",
    "__Hint__: The \"Experiment\" tab on the PDB website has some information that may help here"
   ]
  },
  {
   "cell_type": "raw",
   "metadata": {},
   "source": [
    "The 3D structure is obtained by X ray diffraction technique. For a diffraction method (X-ray, Neutron, Electron), a crystal is grown and then exposed to a beam which creates a diffraction pattern which is subsequently analyzed. A crystal is made up of a repeating unit called the unit cell, in a pseudo-inifinite lattice. For study of 3BMP, protein was crystallized from 100 MM lithium sulfate, 12% TERT-BUTANOL, 50 MM Citrate, pH 5.4. From the experiment, different  bond length and bond angle were measured. And then the experimental data was also validated from other sources to form ths 3D structure.\n"
   ]
  },
  {
   "cell_type": "markdown",
   "metadata": {},
   "source": [
    "---\n",
    "\n",
    "## Problem 8.2 (60%):\n",
    "\n",
    "__Your task is to write a python script to parse a PDB file__. A typical PDB format file will contain atomic coordinates for proteins, as well as small molecules, ions and water. Each atom is entered as a line of information that starts with a keyword ATOM or HETATM. By tradition, the ATOM keyword is used to identify proteins or nucleic acid atoms, and keyword HETATM is used to identify atoms in small molecules. Following this keyword, there is a list of information about the atom, including its name, its number in the file, the name and number of the residue it belongs to, one letter to specify the chain (in oligomeric proteins), its x, y, and z coordinates. Download the raw data for 3BMP. (__Hint: under “Download files” select \"PDB Format\"__.) Your Python script should do the following things:\n",
    "\n",
    "* Open the 3BMP.pdb file in order to parse it line by line. __Hint__: PDB files can be a little hard to read because the lines will have varied numbers of spaces so that the columns line up exactly in a flat file. If you tried opening the file (in a text editor), you’ll also realize that it has a LOT of different information in it. You are only interested in rows that begin with “ATOM”. The best way to separate individual components of a line is by slicing, e.g. to get just “ATOM” you could use line[0:4]. __Splitting on a variable (e.g. '```\\t```') will not work__.\n",
    "* Amino acids are made of Carbon (C), Nitrogen (N), Sulfur (S), and Oxygen (O). Count the number of C, N, S and O atoms that occur in each amino acid of the protein, including the total number of C, N, S and O atoms in the protein. Compute the frequencies (%) for each atom in each unique amino acid. __Remember__: the keyword for atoms in proteins (instead of small molecules) is ATOM; the HETATM keywords can be ignored. The atomic element is given a one-letter code at the __end of the line__. The PDB file will display the x,y,z coordinates starting at amino acid #9, and continuing to amino acid #114. There will be one line per atom of the amino acid. The question you are trying to answer is, of all the C, N and O atoms in the protein structure, how many are in Alanine, Arginine, etc.\n",
    "\n",
    "Your output should look like:\n",
    "\n",
    "```\n",
    "amino acid  C     N     S     O\n",
    "ARG         0.03  0.08  0.00  0.03\n",
    "ASN         0.05  0.10  0.00  0.09\n",
    "ASP         0.05  0.04  0.00  0.12\n",
    "…etc\n",
    "total:      531   142   9     156\n",
    "```\n"
   ]
  },
  {
   "cell_type": "code",
   "execution_count": 6,
   "metadata": {},
   "outputs": [
    {
     "name": "stdout",
     "output_type": "stream",
     "text": [
      "defaultdict(<class 'str'>, {'ARG': 'NCCOCCCNCNNNCCOCCCNCNNNCCOCCCNCNNO', 'LEU': 'NCCOCCCCNCCOCCCCNCCOCCCCNCCOCCCCNCCOCCCCNCCOCCCCNCCOCCCCNCCOCCCCNCCOCCCC', 'LYS': 'NCCOCCCCNNCCOCCCCNNCCOCCCCNNCCOCCCCNNCCOCCCCNNCCOCCCCN', 'SER': 'NCCOCONCCOCONCCOCONCCOCONCCOCONCCOCONCCOCONCCOCO', 'CYS': 'NCCOCSNCCOCSNCCOCSNCCOCSNCCOCSNCCOCSNCCOCS', 'HIS': 'NCCOCCNCCNNCCOCCNCCNNCCOCCNCCNNCCOCCNCCNNCCOCCNCCN', 'PRO': 'NCCOCCCNCCOCCCNCCOCCCNCCOCCCNCCOCCCNCCOCCCNCCOCCC', 'TYR': 'NCCOCCCCCCCONCCOCCCCCCCONCCOCCCCCCCONCCOCCCCCCCONCCOCCCCCCCO', 'VAL': 'NCCOCCCNCCOCCCNCCOCCCNCCOCCCNCCOCCCNCCOCCCNCCOCCCNCCOCCCNCCOCCCNCCOCCCNCCOCCC', 'ASP': 'NCCOCCOONCCOCCOONCCOCCOONCCOCCOONCCOCCOONCCOCCOO', 'PHE': 'NCCOCCCCCCCNCCOCCCCCCCNCCOCCCCCCC', 'GLY': 'NCCONCCONCCONCCONCCO', 'TRP': 'NCCOCCCCNCCCCCNCCOCCCCNCCCCC', 'ASN': 'NCCOCCONNCCOCCONNCCOCCONNCCOCCONNCCOCCONNCCOCCONNCCOCCON', 'ILE': 'NCCOCCCCNCCOCCCCNCCOCCCCNCCOCCCC', 'ALA': 'NCCOCNCCOCNCCOCNCCOCNCCOCNCCOC', 'GLU': 'NCCOCCCOONCCOCCCCCCOOOONCCOCCCOONCCOCCCOONCCOCCCOO', 'THR': 'NCCOCOCNCCOCOCNCCOCOC', 'GLN': 'NCCOCCCONNCCOCCCON', 'MET': 'NCCOCCSCNCCOCCSC'})\n",
      "\n",
      "\n",
      "amino acid  C       N       S       O\n",
      "ALA         0.03    0.04    0.00    0.04\n",
      "ARG         0.03    0.08    0.00    0.03\n",
      "ASN         0.05    0.10    0.00    0.09\n",
      "ASP         0.05    0.04    0.00    0.12\n",
      "CYS         0.04    0.05    0.78    0.04\n",
      "GLN         0.02    0.03    0.00    0.03\n",
      "GLU         0.05    0.04    0.00    0.11\n",
      "GLY         0.02    0.04    0.00    0.03\n",
      "HIS         0.06    0.11    0.00    0.03\n",
      "ILE         0.05    0.03    0.00    0.03\n",
      "LEU         0.10    0.06    0.00    0.06\n",
      "LYS         0.07    0.08    0.00    0.04\n",
      "MET         0.02    0.01    0.22    0.01\n",
      "PHE         0.05    0.02    0.00    0.02\n",
      "PRO         0.07    0.05    0.00    0.04\n",
      "SER         0.05    0.06    0.00    0.10\n",
      "THR         0.02    0.02    0.00    0.04\n",
      "TRP         0.04    0.03    0.00    0.01\n",
      "TYR         0.08    0.04    0.00    0.06\n",
      "VAL         0.10    0.08    0.00    0.07\n",
      "total:      531     142     9       156\n"
     ]
    }
   ],
   "source": [
    "\n",
    "from collections import defaultdict\n",
    " \n",
    "import numpy as np\n",
    "f= open(\"3bmp.cif\")\n",
    "d=defaultdict(str)  \n",
    "for line in f:\n",
    " ch=line[0:4]\n",
    " if(ch==\"ATOM\"):\n",
    "  word=line.split()  \n",
    "  ele=word[2]\n",
    "  p= word[5]\n",
    "  d[p]+=ele #default dict creates unique key for each protein and stores value as of all element present as a string \n",
    "\n",
    "print(d) \n",
    "print(\"\")\n",
    "print(\"\")\n",
    "# initlize counter variables\n",
    "c=0\n",
    "n=0\n",
    "s=0\n",
    "o=0\n",
    "tc=0\n",
    "tn=0\n",
    "ts=0\n",
    "to=0\n",
    "for key in d:                     # just to count the total counts for each element as  I did not used hard coded value from the assignent question\n",
    "    c=(d[key]).count(\"C\")\n",
    "    tc=c+tc\n",
    "    n=(d[key]).count(\"N\")         # count function to count the occurences of each element  \n",
    "    tn=n+tn\n",
    "    s=(d[key]).count(\"S\")\n",
    "    ts=s+ts\n",
    "    o=(d[key]).count(\"O\")\n",
    "    to=o+to\n",
    "# formatting to give the desired output   \n",
    "print(\"amino acid\",\"\",\"C\",\"     \",\"N\",\"     \",\"S\",\"     \",\"O\")  \n",
    "for key in sorted(d):\n",
    "    c=(d[key]).count(\"C\")/tc\n",
    "    n=(d[key]).count(\"N\")/tn\n",
    "    s=(d[key]).count(\"S\")/ts\n",
    "    o=(d[key]).count(\"O\")/to\n",
    "    print(key ,\"       \",format(c, '.2f'),\"  \",format(n, '.2f'),\"  \",format(s, '.2f'),\"  \",format(o, '.2f'))\n",
    "print(\"total:\",\"    \",tc, \"   \",tn,\"   \",ts,\"     \",to)    "
   ]
  },
  {
   "cell_type": "markdown",
   "metadata": {},
   "source": [
    "__What does the distribution of frequencies look like? Are there any atoms that are more prevalent in one amino acid or another?__"
   ]
  },
  {
   "cell_type": "raw",
   "metadata": {},
   "source": [
    "The values of frequencies are close to each other except for a few cases. Yes, in CYS there is a high frequency percentage of element S."
   ]
  },
  {
   "cell_type": "code",
   "execution_count": null,
   "metadata": {},
   "outputs": [],
   "source": []
  }
 ],
 "metadata": {
  "kernelspec": {
   "display_name": "Python 3",
   "language": "python",
   "name": "python3"
  },
  "language_info": {
   "codemirror_mode": {
    "name": "ipython",
    "version": 3
   },
   "file_extension": ".py",
   "mimetype": "text/x-python",
   "name": "python",
   "nbconvert_exporter": "python",
   "pygments_lexer": "ipython3",
   "version": "3.6.5"
  }
 },
 "nbformat": 4,
 "nbformat_minor": 1
}
