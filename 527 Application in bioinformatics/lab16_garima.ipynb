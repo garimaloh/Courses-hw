{
 "cells": [
  {
   "cell_type": "markdown",
   "metadata": {},
   "source": [
    "# Lab 16: Motif Finding\n",
    "\n",
    "**BACKGROUND:** You identified a human gene called **JUNB** that is relevant to your research. You now want to see how the gene is regulated by identifying transcription factors (TFs) that regulate the gene. You also want to identify any domains in its protein sequence."
   ]
  },
  {
   "cell_type": "markdown",
   "metadata": {},
   "source": [
    "### TASK 1 Objectives:\n",
    "\n",
    "*Retrieve the promoter sequence and identify potential TF binding sites.*\n",
    "\n",
    "**A.** Extract the promoter sequence from the gene.\n",
    "1. Go to the [UCSC Table Browser](https://genome.ucsc.edu/cgi-bin/hgTables)\n",
    "2. In the row that starts with the word \"**clade**\", choose \"**human**\" from the \"**genome**\" field\n",
    "3. In the row starting with the word \"**region**\", enter **JUNB** in the *position* field, and click on the *Lookup* button\n",
    "4. Click on the top link that references **JUNB**: \n",
    "   `JUNB (uc002mvc.4) at chr19:12791496-12793315 - Homo sapiens jun B proto-oncogene (JUNB), mRNA. (from RefSeq NM_002229)` -- this will bring you back to the Table Browser page.\n",
    "5. When you are back in the Table Browser page, in the row \"**region**\" select \"position\" radio button, and in the row starting with \"**output format**\", select *sequence* from the dropdown\n",
    "6. Click the **get output** button, choose *genomic*, then press the **submit** button\n",
    "7. Check the **Promoter/Upstream** checkbox, and enter 500 in the text box\n",
    "8. Uncheck all other boxes and press the **get sequence** button\n",
    "9. Copy and paste the FASTA result into a file for later use.\n",
    "\n",
    "**B.** Look for transcription factor binding site (TFBS) motifs.\n",
    "1. Go to the **POSSUM** web page: http://zlab.bu.edu/~mfrith/possum/\n",
    "2. Paste promoter sequence in the '**Enter DNA sequences**' box.\n",
    "3. Select some/all of the cis-elements. *(Note: POSSUM won’t run unless you select cis-elements to search for.)*\n",
    "4. Click **Go!**\n",
    "5. POSSUM will display the cis-elements, the locations, the surrounding sequence, and the scores. \n",
    "\n",
    "**Question:** \n",
    ">What is the most common cis-element in the sequence?"
   ]
  },
  {
   "cell_type": "raw",
   "metadata": {},
   "source": [
    "THe most common cis elements are LSF and Sp1.Both were found with high scores( making the top five) in the promoter sequence."
   ]
  },
  {
   "cell_type": "markdown",
   "metadata": {},
   "source": [
    "### TASK 2 Objectives:\n",
    "\n",
    "*Find motifs in protein sequences without looking at the promoter.*\n",
    "\n",
    "**A.** Retrieve the protein sequence for **JUNB_HUMAN**. Search for it at: http://www.uniprot.org/\n",
    "\n",
    "**B.** Save the sequence in a file; you will need it for **Task 3**. *Hint:* You can create new text files in jupyter by choosing `New -> Text File` in the file browser.\n",
    "\n",
    "**C.** Search for domains:\n",
    "1. Go to the [HMMER web page](https://www.ebi.ac.uk/Tools/hmmer/search/hmmscan)\n",
    "2. Paste the JUNB protein sequence from above into the first box\n",
    "3. Click '**Submit**' to search for protein motifs in your protein sequence.\n",
    "4. Hmmer will display the protein sequence and the locations of significant protein motif hits. \n",
    "\n",
    "**Question:**\n",
    ">Are the results surprising? "
   ]
  },
  {
   "cell_type": "raw",
   "metadata": {},
   "source": [
    "No, the results are not surprising. As JUNB_HUMAN is related to transcription factor so all the motif obtained are related to the transcription only"
   ]
  },
  {
   "cell_type": "markdown",
   "metadata": {},
   "source": [
    ">Are there multiple protein motifs?"
   ]
  },
  {
   "cell_type": "raw",
   "metadata": {},
   "source": [
    "Yes, there are multiple motif.\n",
    "1)JUNB_HUMAN----Jun-like transcription factor\n",
    "2)bZIP_1 ----bZIP transcription factor\n",
    "3)bZIP_2 ----Basic region leucine zipper\n",
    "4)bZIP_Maf---bZIP Maf transcription factor"
   ]
  },
  {
   "cell_type": "markdown",
   "metadata": {},
   "source": [
    "### TASK 3 Objectives:\n",
    "    \n",
    "**BACKGROUND**:\n",
    "A fast way to search for leucine zipper domains in a protein sequence is to check  if  there  is  a  small  pattern  containing  an  “L”  every  7  amino  acids  (A  leucine  zipper pattern  is  an  L  with  6  other  amino  acids,  and  then  another L with 6 other amino acids, and then another L, so on and so forth.).   Use your python skills to take a sequence and identify whether that pattern exists. \n",
    "\n",
    "**Note**:\n",
    "Regular  expressions  are  very  powerful  and  can  get  complicated.  This  is  a  very  basic tutorial. For more in-depth knowledge, go to http://docs.python.org/library/re.html. You will use the regular expressions library for this exercise. But first you will practice basic expression and syntax. A  regular  expression  is  a  consensus  sequence-like  pattern.  Here  are  two  example  regular expressions: \n",
    "\n",
    "| Regular Expression | Description | Matching sequences |\n",
    "|-|-|-|\n",
    "| ```motif = 'A[CT]G[AG]'``` |Position 1: A<br />Position 2: C or T<br />Position 3: G<br />Position 4: A or G | ACGA<br />ATGA<br />ACGG<br />ATGG |\n",
    "| ```motif = 'A.G.'``` | Position 1: A<br />Position  2: A or C or T or G<br />Position 3: G<br />Position  4: A or C or T or G | AAGA, AAGT, AAGC AAGG,<br />ATGA, ATGT ATGC, ATGG,<br />ACGA ACGT, ACGC, ACGG<br />AGGA, AGGT, AGGC AGGG |\n",
    "\n",
    "A dot (.) is a wildcard that stands for any character at a single position. Another useful\n",
    "wildcard often used with a dot is the asterisk (\\*). A \\* refers to repeats of any character.\n",
    "[ACGT]* refers to repeats of (A, C, G, or T). The syntax in a Python script is:\n",
    "\n",
    "```python\n",
    "import re\n",
    "sequence = 'TACACGTATAC'\n",
    "motif = 'A.G.'\n",
    "result = re.search(motif, sequence)\n",
    "```\n",
    "\n",
    "If the pattern is not found, result will be ‘None’. Search for ‘XYZ’ in the above sequence and print the result to see what happens when a pattern is not found. \n",
    "\n",
    "You can get the start and end positions of the\n",
    "motif match:\n",
    "\n",
    "```python\n",
    "start = result.start()\n",
    "end = result.end()\n",
    "```\n",
    "\n",
    "To extract the exact motif in the sequence, you can slice it out:\n",
    "\n",
    "```python\n",
    "sequence[start:stop]\n",
    "```\n",
    "\n",
    "### TASK 3 Objectives:\n",
    "\n",
    "1. Write  python code below which operates on the sequence file `junb.fasta`. \n",
    "2. Use regular expressions. To do this, you must first ```import re```.  This needs to be done at the very beginning of your code. \n",
    "3. Read the sequence from the file and save it in a variable, e.g. sequence.\n",
    "4. Create your motif variable for leucine zippers using dots (.). Hint: a motif with a lysine (K) repeated twice with two amino acids in the middle would be: ```motif = 'K..K'```. Remember that the leucine zipper pattern is an L with 6 other amino acids, and then an L with 6 other amino acids, and then another L, so on and so forth. Note: K is for lysine, L is for leucine! \n",
    "5. Use ```re.search``` to check if the leucine zipper pattern.  See syntax on previous page. \n",
    "6. Print  the  location  and  motif  within  the  sequence.    How  does  your  Python  script  result compare with the online tool result? \n",
    "7. Upload your jupyter notebook to Blackboard for lab credit. "
   ]
  },
  {
   "cell_type": "code",
   "execution_count": 27,
   "metadata": {},
   "outputs": [
    {
     "name": "stdout",
     "output_type": "stream",
     "text": [
      "Sequence : MCTKMEQPFYHDDSYTATGYGRAPGGLSLHDYKLLKPSLAVNLADPYRSLKAPGARGPGPEGGGGGSYFSGQGSDTGASLKLASSELERLIVPNSNGVITTTPTPPGQYFYPRGGGSGGGAGGAGGGVTEEQEGFADGFVKALDDLHKMNHVTPPNVSLGATGGPPAGPGGVYAGPEPPPVYTNLSSYSPASASSGGAGAAVGTGSSYPTTTISYLPHAPPFAGGHPAQLGLGRGASTFKEEPQTVPEARSRDATPPVSPINMEDQERIKVERKRLRNRLAATKCRKRKLERIARLEDKVKTLKAENAGLSSTAGLLREQVAQLKQKVMTHVSNGCQLLLGVKGHAF \n",
      "\n",
      "finditer function: \n",
      "location: (26, 34) motif : LSLHDYKL\n",
      "location: (42, 50) motif : LADPYRSL\n",
      "location: (79, 87) motif : LKLASSEL\n",
      "location: (295, 324) motif : LEDKVKTLKAENAGLSSTAGLLREQVAQL\n"
     ]
    }
   ],
   "source": [
    "import re \n",
    "with open('jung.fasta', 'r') as file:      # open and read the file\n",
    " proseq = ''                               # initialize variable to collect protein sequences\n",
    " proID = ''                                # initialize to collect protein id\n",
    " for line in file:\n",
    "      line=line.strip()\n",
    "      if('>' in line):\n",
    "        proID = line[4:10]                 # collect proten id\n",
    "      else:   \n",
    "        proseq = proseq + line   \n",
    "\n",
    " print('Sequence :', proseq,\"\\n\")\n",
    " \n",
    " print('finditer function: ')\n",
    "\n",
    " results = list(re.finditer('(L......)+L', proseq)) #find the motif with the help of finditerfuncton()\n",
    "  \n",
    " for match in results :\n",
    "    print('location:',(match.start(), match.end()), 'motif :', match.group()) #print location and motif"
   ]
  },
  {
   "cell_type": "code",
   "execution_count": null,
   "metadata": {},
   "outputs": [],
   "source": [
    "In comparison to online tool Hummmer, our python function also obtained four motif and its location."
   ]
  },
  {
   "cell_type": "code",
   "execution_count": null,
   "metadata": {},
   "outputs": [],
   "source": []
  }
 ],
 "metadata": {
  "anaconda-cloud": {},
  "kernelspec": {
   "display_name": "Python 3",
   "language": "python",
   "name": "python3"
  },
  "language_info": {
   "codemirror_mode": {
    "name": "ipython",
    "version": 3
   },
   "file_extension": ".py",
   "mimetype": "text/x-python",
   "name": "python",
   "nbconvert_exporter": "python",
   "pygments_lexer": "ipython3",
   "version": "3.6.5"
  }
 },
 "nbformat": 4,
 "nbformat_minor": 1
}
