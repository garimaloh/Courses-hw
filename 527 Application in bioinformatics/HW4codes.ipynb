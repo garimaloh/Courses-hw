{
 "cells": [
  {
   "cell_type": "markdown",
   "metadata": {},
   "source": [
    "# Homework 4\n",
    "\n",
    "### See [Blackboard](https://learn.bu.edu) for assignment and due dates"
   ]
  },
  {
   "cell_type": "markdown",
   "metadata": {},
   "source": [
    "Please enter your code and responses below and save the results to submit through Blackboard. Your code should follow the guidelines laid out in class, including commenting. Partial credit will be given for nonfunctional code that is logical and well commented. **This assignment must be completed on your own**."
   ]
  },
  {
   "cell_type": "markdown",
   "metadata": {},
   "source": [
    "## Problem 4.1 (50%):\n",
    "\n",
    "In this problem you will implement aspects of the LCS algorithm discussed in **Lecture 3**. Create a script in the box below. This script must contain the two functions described below, plus any additional code you need to run the script.\n",
    "\n",
    "* ```compute_lcs```: this function takes as input two sequences and ```returns``` (not prints) the LCS matrix.\n",
    "* ```print_lcs```: this function takes as input the same two sequences as well as the computed LCS matrix (from ```compute_lcs```) and prints the LCS Plot. For full credit, ```print_lcs``` should:\n",
    "    * print the two sequences one below the other\n",
    "    * display every row of the LCS matrix on a separate line.\n",
    "    * **Extra credit**: print the sequence characters next to their associated rows and columns as seen in the example below."
   ]
  },
  {
   "cell_type": "raw",
   "metadata": {},
   "source": [
    "Sequence A = \"AACTGGCAG\"\n",
    "Sequence B = \"TACGCTGGA\"\n",
    "\n",
    "Example output:\n",
    "\n",
    "  A A C T G G C A G\n",
    "T 0 0 0 1 0 0 0 0 0\n",
    "A 1 1 0 0 0 0 0 1 0\n",
    "C 0 0 2 0 0 0 0 1 0\n",
    "G 0 0 0 0 1 1 0 0 1\n",
    "C 0 0 1 0 0 0 2 0 0\n",
    "T 0 0 0 2 0 0 0 0 0\n",
    "G 0 0 0 0 3 0 0 0 0\n",
    "G 0 0 0 0 1 4 0 0 1\n",
    "A 1 1 0 0 0 0 0 1 0"
   ]
  },
  {
   "cell_type": "code",
   "execution_count": 8,
   "metadata": {},
   "outputs": [
    {
     "name": "stdout",
     "output_type": "stream",
     "text": [
      "sequence A= \"AACTGGCAG\"\n",
      "sequence B= \"TACGCTGGA\"\n",
      "  A A C T G G C A G\n",
      "T 0 0 0 1 0 0 0 0 0 \n",
      "A 1 1 0 0 0 0 0 1 0 \n",
      "C 0 0 2 0 0 0 1 0 0 \n",
      "G 0 0 0 0 1 1 0 0 1 \n",
      "C 0 0 1 0 0 0 2 0 0 \n",
      "T 0 0 0 2 0 0 0 0 0 \n",
      "G 0 0 0 0 3 1 0 0 1 \n",
      "G 0 0 0 0 1 4 0 0 1 \n",
      "A 1 1 0 0 0 0 0 1 0 \n"
     ]
    }
   ],
   "source": [
    "def compute_lcs(A,B):\n",
    "  \n",
    " n = len(A)\n",
    " m = len(B)\n",
    " Dotplot = [0] * n\n",
    "\n",
    " for i in range(n):\n",
    "  Dotplot[i] = [0] * m    # creating Matrix with zero values\n",
    "\n",
    "\n",
    " for i in range(m):\n",
    "  for j in range (n):\n",
    "   if(A[j]==B[i]):\n",
    "    if (i==0 or j==0):    \n",
    "     Dotplot[i][j] =1       # if there is a match in case of first row and column then zero is replaced by one\n",
    "    else :\n",
    "     Dotplot[i][j]=Dotplot[i-1][j-1]+1   # computing LCS \n",
    " return(Dotplot)\n",
    "   \n",
    "\n",
    "def print_lcs(A,B):\n",
    " Dotplot=compute_lcs (A,B) \n",
    " print( \"sequence A= \" +\"\\\"\"+ A +\"\\\"\")\n",
    " print( \"sequence B= \" +\"\\\"\"+ B +\"\\\"\")\n",
    " D=B\n",
    " n = len(A)\n",
    " m = len(B)\n",
    " A=' '.join(str(x) for x in A)    # join is used to align sequence with LCS matrix\n",
    " B=''.join(str(x) for x in B)\n",
    " print(\" \", A)\n",
    " for i in range(m):\n",
    "   print(D[i],end=' ')     # end is used to align with corresponding sequence\n",
    "   for j in range(n):\n",
    "    print(Dotplot[i][j], end=' ')\n",
    "   print(\"\")\n",
    "  \n",
    "def main():  # to call class and test the program\n",
    " compute_lcs(\"AACTGGCAG\",\"TACGCTGGA\") \n",
    " print_lcs (\"AACTGGCAG\",\"TACGCTGGA\")\n",
    "if __name__ == '__main__':\n",
    "  main()"
   ]
  },
  {
   "cell_type": "markdown",
   "metadata": {},
   "source": [
    "## Problem 4.2 (40%):\n",
    "\n",
    "Detecting orthologous genes between two genomes is an important task in bioinformatics. BLAST can be used as a simple ortholog detector. We first perform a BLAST search of a given protein from Genome 1 (protein A) against Genome 2. We then take the best matching protein from Genome 2 (protein B) and perform a BLAST search against Genome 1. If the best matching protein from Genome 1 is protein A, then we conclude that protein A and protein B are orthologous (i.e., the genes that encode them are orthologs). This is called the *reciprocal best hit strategy*.\n",
    "\n",
    "**(A)** The following protein is derived from the genome of *Sacchromyces cerevisiae* (Taxonomic ID: 4932) (baker’s yeast). Using BLAST, perform a reciprocal best hit search against:\n",
    "\n",
    "* Candida albicans (5476)\n",
    "* Haloquadratum walsbyi (293091)\n",
    "* Homo sapiens (9606)\n",
    "\n",
    "At each step describe the best hit you discover and comment on its degree of similarity to your query protein. If an orthology relationship is found, state it; if not, suggest a biological explanation."
   ]
  },
  {
   "cell_type": "raw",
   "metadata": {},
   "source": [
    ">gi|170986|gb|AAA34391.1| actin [Saccharomyces cerevisiae] MDSEVAALVIDNGSGMCKAGFAGDDAPRAVFPSIVGRPRHQGIMVGMGQKDSYVGDEAQSKRGILTLRYPIEHGIVTNWDDMEKIWHHTFYNELRVAPEEHPVLLTEAPMNPKSNREKMTQIMFETFNVPAFYVSIQAVLSLYSSGRTTGIVLDSGDGVTHVVPIYAGFSLPHAILRIDLAGRDLTDYLMKILSERGYSFSTTAEREIVRDIKEKLCYVALDFEQEMQTAAQSSSIEKSYELPDGQVITIGNERFRAPEALFHPSVLGLESAGIDQTTYNSIMKCDVDVRKELYGNIVMSGGTTMFPGIAERMQKEITALAPSSMKVKIIAPPERKYSVWIGGSILASLTTFQQMWISKQEYDESGPSIVHHKCF"
   ]
  },
  {
   "cell_type": "raw",
   "metadata": {},
   "source": [
    "Candida albicans (5476)\n",
    "No orthology relationship. Since protein match in search 2 is not 100% identical.\n",
    "Search 1: actin [Candida albicans WO-1]-- 95% identical and 100% Query coverage\n",
    "Search 2: actin [Saccharomyces cerevisiae] S288C-- 95% identical and 100% Query coverage  \n",
    "\n",
    "Haloquadratum walsbyi (293091)\n",
    "No orthology relationship because they are unrelated proteins.Moreover,Haloquadratum walsbyi is a species of archaea whereas Saccharomyces cerevisiae is a species of yeast.\n",
    "Search  1: not found\n",
    "\n",
    "Homo sapiens (9606) \n",
    "No orthology relationship.Since protein match in search 2 is not 100% identical.\n",
    "Search 1: actin cytoplasmic2[Homo sapiens] -- 89% identical and 100% Query coverage\n",
    "Search 2: actin [Sacchromyces cerevisiae] S288C --89% identical and 100% Query coverage"
   ]
  },
  {
   "cell_type": "markdown",
   "metadata": {},
   "source": [
    "**(B)** Describe a BLAST-based procedure (either in a paragraph or with pseudocode) for determining all orthology relationships between a pair of genomes. You may assume that the genomes have been provided in FASTA format with one protein per entry. You DO NOT need to implement your procedure in python."
   ]
  },
  {
   "cell_type": "raw",
   "metadata": {},
   "source": [
    "Set X to each protein in Genome1\n",
    "for (each X in Genome 1):\n",
    "  do Blast Search of each X in Genome2\n",
    "  {\n",
    "  tophit1=protein2\n",
    "  }\n",
    "  do Blast Search of each tophit1 in Genome1\n",
    "  {\n",
    "  tophit2=protein3\n",
    "  }\n",
    "  if(tophit2==X)\n",
    "  {\n",
    "  print(\"ortholog\",X)\n",
    "  }"
   ]
  },
  {
   "cell_type": "markdown",
   "metadata": {},
   "source": [
    "## Problem 4.3 (10%):\n",
    "\n",
    "Thought question: how could you use your python script from part 4.1 and python's random library to estimate the probability of observing an LCS of length 4 between two random DNA sequences of length 9? How could you estimate the statistical significance (p-value) of this occurrence?"
   ]
  },
  {
   "cell_type": "raw",
   "metadata": {},
   "source": [
    "We can use the random library to generate two random sequences and use LCS to count if they have a sub-sequence of length 4. If we do this many times (for example,n times) we will get an estimate of the p-value by counting how many times they have a sub-sequence of length 4 out of n-iterations. \n",
    "\n",
    "Probabilty of this occurrence = (count of sub-sequence of length 4)/ Total iterations\n",
    "\n",
    "If p value is less than 0.05 then it is statistically significant."
   ]
  }
 ],
 "metadata": {
  "anaconda-cloud": {},
  "kernelspec": {
   "display_name": "Python 3",
   "language": "python",
   "name": "python3"
  },
  "language_info": {
   "codemirror_mode": {
    "name": "ipython",
    "version": 3
   },
   "file_extension": ".py",
   "mimetype": "text/x-python",
   "name": "python",
   "nbconvert_exporter": "python",
   "pygments_lexer": "ipython3",
   "version": "3.6.5"
  }
 },
 "nbformat": 4,
 "nbformat_minor": 1
}
