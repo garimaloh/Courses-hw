{
 "cells": [
  {
   "cell_type": "code",
   "execution_count": 4,
   "metadata": {},
   "outputs": [
    {
     "data": {
      "image/png": "[encoded data removed]",
      "text/plain": [
       "<Figure size 432x288 with 1 Axes>"
      ]
     },
     "metadata": {},
     "output_type": "display_data"
    },
    {
     "data": {
      "text/plain": [
       "<Figure size 432x288 with 0 Axes>"
      ]
     },
     "metadata": {},
     "output_type": "display_data"
    }
   ],
   "source": [
    "#########Question2\n",
    "\n",
    "import random\n",
    "import numpy as np\n",
    "import matplotlib.pyplot as plt\n",
    "from numpy import linalg as LA\n",
    "\n",
    "random.seed()\n",
    "n=2000\n",
    "mu=0\n",
    "sigma=1\n",
    "\n",
    "x=[[]]*n\n",
    "for i in range(n):\n",
    "    for j in range(n):\n",
    "        random_var=round(np.random.normal(mu, sigma,1)[0],2) #creating Normal distribution with np.random.normal and converting from array to scaler value and then round it off to 2 decimal point\n",
    "        x[i]=x[i]+[random_var]     \n",
    "        x[i]=x[i]+[random_var]     \n",
    "#Converting  the generated matrix into symmetric\n",
    "for i in range(n):\n",
    "    for j in range(n):\n",
    "        x[i][j]=x[j][i]\n",
    "#Finding eigen values\n",
    "w, v = LA.eig(x)\n",
    "plt.hist(w)\n",
    "plt.show()\n",
    "plt.clf()"
   ]
  },
  {
   "cell_type": "code",
   "execution_count": null,
   "metadata": {},
   "outputs": [],
   "source": []
  }
 ],
 "metadata": {
  "kernelspec": {
   "display_name": "Python 3",
   "language": "python",
   "name": "python3"
  },
  "language_info": {
   "codemirror_mode": {
    "name": "ipython",
    "version": 3
   },
   "file_extension": ".py",
   "mimetype": "text/x-python",
   "name": "python",
   "nbconvert_exporter": "python",
   "pygments_lexer": "ipython3",
   "version": "3.6.5"
  }
 },
 "nbformat": 4,
 "nbformat_minor": 2
}
