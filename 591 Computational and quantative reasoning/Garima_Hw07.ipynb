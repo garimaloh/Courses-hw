{
 "cells": [
  {
   "cell_type": "markdown",
   "metadata": {},
   "source": [
    "# Question 1"
   ]
  },
  {
   "cell_type": "code",
   "execution_count": 27,
   "metadata": {},
   "outputs": [
    {
     "data": {
      "image/png": "[encoded data removed]",
      "text/plain": [
       "<Figure size 432x288 with 1 Axes>"
      ]
     },
     "metadata": {},
     "output_type": "display_data"
    },
    {
     "data": {
      "text/plain": [
       "<Figure size 432x288 with 0 Axes>"
      ]
     },
     "metadata": {},
     "output_type": "display_data"
    }
   ],
   "source": [
    "import random\n",
    "import numpy as np\n",
    "import matplotlib.pyplot as plt\n",
    "from numpy import linalg as LA\n",
    "\n",
    "random.seed(5072)\n",
    "\n",
    "# x,y are lists that represent where the person has reached\n",
    "# x_sum,y_sum keep tracks of the current location of the person\n",
    "# After every step, the current location is saved in the list of x,y! So finally we will have the\n",
    "# random walk stored in x,y list\n",
    "def random_walk_lattice(n):\n",
    "    x,y,x_sum,y_sum=[0],[0],0,0 # initializing the variables, our starting point is (0,0) \n",
    "    for i in range(n):\n",
    "        random_dir=random.choice([(0,1),(0,-1),(1,0),(-1,0)]) # Choosing from one of the directions\n",
    "        x_sum+=random_dir[0] #updating the current location for x co-rdinate\n",
    "        y_sum+=random_dir[1] #updating the current location for y co-rdinate    \n",
    "        \n",
    "        #saving the current location in x,y lists \n",
    "        x+=[x_sum]  \n",
    "        y+=[y_sum] \n",
    "        \n",
    "        #returning x,y lists which represent x and y cordinate of random walk\n",
    "    return x,y\n",
    "    \n",
    "#plot for 300 steps\n",
    "x,y=random_walk_lattice(300)\n",
    "plt.grid()\n",
    "plt.plot(x,y)\n",
    "plt.show()\n",
    "plt.clf()\n",
    "\n"
   ]
  },
  {
   "cell_type": "code",
   "execution_count": 26,
   "metadata": {},
   "outputs": [
    {
     "ename": "IndentationError",
     "evalue": "unindent does not match any outer indentation level (<ipython-input-26-3f635179f2cb>, line 20)",
     "output_type": "error",
     "traceback": [
      "\u001b[1;36m  File \u001b[1;32m\"<ipython-input-26-3f635179f2cb>\"\u001b[1;36m, line \u001b[1;32m20\u001b[0m\n\u001b[1;33m    ar1=[]\u001b[0m\n\u001b[1;37m          ^\u001b[0m\n\u001b[1;31mIndentationError\u001b[0m\u001b[1;31m:\u001b[0m unindent does not match any outer indentation level\n"
     ]
    }
   ],
   "source": [
    "import random\n",
    "import numpy as np\n",
    "import matplotlib.pyplot as plt\n",
    "from numpy import linalg as LA\n",
    "def random_walk_lattice(n):\n",
    " \n",
    "    x,y,x_sum,y_sum=[0],[0],0,0 # initializing the variables, our starting point is (0,0) \n",
    "    for i in range(n):\n",
    "        random_dir=random.choice([(0,1),(0,-1),(1,0),(-1,0)]) # Choosing from one of the directions\n",
    "        x_sum+=random_dir[0] #updating the current location for x co-rdinate\n",
    "        y_sum+=random_dir[1] #updating the current location for y co-rdinate    \n",
    "        \n",
    "        #saving the current location in x,y lists \n",
    "        x+=[x_sum]  \n",
    "        y+=[y_sum] \n",
    "        \n",
    "        #returning x,y lists which represent x and y cordinate of random walk\n",
    "    return x,y\n",
    "\n",
    "   ar1=[]\n",
    "   ar2=[]\n",
    "   number_of_steps=300 # Number of steps\n",
    "   x,y=random_walk_lattice(number_of_steps) #generating random walk using the function created above\n",
    "   distance=[] # This is a list that will keep track of the distance from the origin at a given step number\n",
    "   mean_distance=[] # This is a list that will have the mean of distance till that step \n",
    "   maximal_distance=[] # This is a list that will have the mean of distance till that step for a step number\n",
    "   for j in range(number_of_steps): #running a loop for each random step put in\n",
    "    distance+=[np.linalg.norm(np.array([x[j],y[j]]))] #calculating the distance from origin and appending it in distance list\n",
    "    distance_1=np.array(distance) #converting it to an array for calculation of mean and sum\n",
    "    mean_distance+=[np.mean(distance_1)] #Caluclating mean distance till that step and appending it to mean_distance list\n",
    "    maximal_distance+=[np.max(distance_1)]  #Caluclating max distance till that step and appending it to maximal_distance list \n",
    "   ar1.append(mean_distance)\n",
    "   ar2.append(maximal_distance)\n",
    "   print(ar1)   \n",
    "    \n",
    "\n",
    "    "
   ]
  },
  {
   "cell_type": "markdown",
   "metadata": {},
   "source": [
    "# Question 2"
   ]
  },
  {
   "cell_type": "code",
   "execution_count": 19,
   "metadata": {},
   "outputs": [],
   "source": [
    "random.seed()\n",
    "n=2000\n",
    "mu=0    #mean\n",
    "sigma=1  #variance\n",
    "\n",
    "x=[[]]*n\n",
    "for i in range(n):\n",
    "    for j in range(n):\n",
    "        random_var=round(np.random.normal(mu, sigma,1)[0],2) #creating Normal distribution with np.random.normal and converting from array to scaler value and then round it off to 2 decimal point\n",
    "        x[i]=x[i]+[random_var]     \n",
    "#Converting  the generated matrix into symmetric\n",
    "for i in range(n):\n",
    "    for j in range(n):\n",
    "        x[i][j]=x[j][i]\n",
    "        \n",
    " \n"
   ]
  },
  {
   "cell_type": "code",
   "execution_count": 20,
   "metadata": {},
   "outputs": [
    {
     "data": {
      "image/png": "[encoded data removed]",
      "text/plain": [
       "<Figure size 432x288 with 1 Axes>"
      ]
     },
     "metadata": {},
     "output_type": "display_data"
    },
    {
     "data": {
      "text/plain": [
       "<Figure size 432x288 with 0 Axes>"
      ]
     },
     "metadata": {},
     "output_type": "display_data"
    }
   ],
   "source": [
    "#Finding eigen values\n",
    "w, v = LA.eig(x)\n",
    "plt.hist(w)\n",
    "plt.show()\n",
    "plt.clf()"
   ]
  },
  {
   "cell_type": "code",
   "execution_count": 22,
   "metadata": {},
   "outputs": [
    {
     "data": {
      "text/plain": [
       "1.564631552156933"
      ]
     },
     "execution_count": 22,
     "metadata": {},
     "output_type": "execute_result"
    }
   ],
   "source": []
  },
  {
   "cell_type": "code",
   "execution_count": 30,
   "metadata": {},
   "outputs": [
    {
     "data": {
      "image/png": "[encoded data removed]",
      "text/plain": [
       "<Figure size 432x288 with 1 Axes>"
      ]
     },
     "metadata": {},
     "output_type": "display_data"
    },
    {
     "name": "stdout",
     "output_type": "stream",
     "text": [
      "Number of steps vs. Mean distance \n",
      "Number of steps vs. Maximal distance \n"
     ]
    },
    {
     "data": {
      "text/plain": [
       "<Figure size 432x288 with 0 Axes>"
      ]
     },
     "metadata": {},
     "output_type": "display_data"
    }
   ],
   "source": [
    "#Plots    \n",
    "i = np.arange(number_of_steps)+1            \n",
    "plt.plot((i),(mean_distance),\"b.\")\n",
    "plt.loglog((i),(mean_distance),\"b.\")\n",
    "plt.semilogy((i),(mean_distance),\"b.\")\n",
    "plt.semilogx((i),(mean_distance),\"b.\")\n",
    "plt.show()\n",
    "plt.clf()\n",
    "print(\"Number of steps vs. Mean distance \")     \n",
    "\n",
    "                                 \n",
    "plt.plot((i),(maximal_distance),\"m.\")\n",
    "plt.loglog((i),(maximal_distance),\"m.\")\n",
    "plt.semilogy((i),(maximal_distance),\"m.\")\n",
    "plt.semilogx((i),(maximal_distance),\"m.\")\n",
    "plt.clf()\n",
    "print(\"Number of steps vs. Maximal distance \")  \n"
   ]
  },
  {
   "cell_type": "code",
   "execution_count": 28,
   "metadata": {},
   "outputs": [
    {
     "ename": "TypeError",
     "evalue": "can only concatenate list (not \"float\") to list",
     "output_type": "error",
     "traceback": [
      "\u001b[1;31m---------------------------------------------------------------------------\u001b[0m",
      "\u001b[1;31mTypeError\u001b[0m                                 Traceback (most recent call last)",
      "\u001b[1;32m<ipython-input-28-0767e6307987>\u001b[0m in \u001b[0;36m<module>\u001b[1;34m()\u001b[0m\n\u001b[0;32m      1\u001b[0m \u001b[0mn\u001b[0m\u001b[1;33m=\u001b[0m\u001b[0mnp\u001b[0m\u001b[1;33m.\u001b[0m\u001b[0marray\u001b[0m\u001b[1;33m(\u001b[0m\u001b[0mi\u001b[0m\u001b[1;33m)\u001b[0m\u001b[1;33m\u001b[0m\u001b[0m\n\u001b[1;32m----> 2\u001b[1;33m \u001b[0mplt\u001b[0m\u001b[1;33m.\u001b[0m\u001b[0mloglog\u001b[0m\u001b[1;33m(\u001b[0m\u001b[0mn\u001b[0m\u001b[1;33m,\u001b[0m\u001b[0mx\u001b[0m\u001b[1;33m+\u001b[0m\u001b[1;36m0.1\u001b[0m\u001b[1;33m,\u001b[0m\u001b[1;34m'.'\u001b[0m\u001b[1;33m)\u001b[0m\u001b[1;33m\u001b[0m\u001b[0m\n\u001b[0m\u001b[0;32m      3\u001b[0m \u001b[0mslope\u001b[0m\u001b[1;33m,\u001b[0m \u001b[0mintercept\u001b[0m\u001b[1;33m,\u001b[0m \u001b[0mr_value\u001b[0m\u001b[1;33m,\u001b[0m \u001b[0mp_value\u001b[0m\u001b[1;33m,\u001b[0m \u001b[0mstd_err\u001b[0m \u001b[1;33m=\u001b[0m \u001b[0msp\u001b[0m\u001b[1;33m.\u001b[0m\u001b[0mstats\u001b[0m\u001b[1;33m.\u001b[0m\u001b[0mlinregress\u001b[0m\u001b[1;33m(\u001b[0m\u001b[0mnp\u001b[0m\u001b[1;33m.\u001b[0m\u001b[0mlog\u001b[0m\u001b[1;33m(\u001b[0m\u001b[0mn\u001b[0m\u001b[1;33m)\u001b[0m\u001b[1;33m,\u001b[0m \u001b[0mnp\u001b[0m\u001b[1;33m.\u001b[0m\u001b[0mlog\u001b[0m\u001b[1;33m(\u001b[0m\u001b[0mx\u001b[0m\u001b[1;33m+\u001b[0m\u001b[1;36m0.1\u001b[0m\u001b[1;33m)\u001b[0m\u001b[1;33m)\u001b[0m\u001b[1;33m\u001b[0m\u001b[0m\n\u001b[0;32m      4\u001b[0m \u001b[0mplt\u001b[0m\u001b[1;33m.\u001b[0m\u001b[0mloglog\u001b[0m\u001b[1;33m(\u001b[0m\u001b[0mn\u001b[0m\u001b[1;33m,\u001b[0m \u001b[0mnp\u001b[0m\u001b[1;33m.\u001b[0m\u001b[0mexp\u001b[0m\u001b[1;33m(\u001b[0m\u001b[0mnp\u001b[0m\u001b[1;33m.\u001b[0m\u001b[0mlog\u001b[0m\u001b[1;33m(\u001b[0m\u001b[0mn\u001b[0m\u001b[1;33m)\u001b[0m\u001b[1;33m*\u001b[0m\u001b[0mslope\u001b[0m \u001b[1;33m+\u001b[0m \u001b[0mintercept\u001b[0m\u001b[1;33m)\u001b[0m\u001b[1;33m,\u001b[0m \u001b[1;34m'r-'\u001b[0m\u001b[1;33m)\u001b[0m\u001b[1;33m\u001b[0m\u001b[0m\n\u001b[0;32m      5\u001b[0m \u001b[0mplt\u001b[0m\u001b[1;33m.\u001b[0m\u001b[0mtitle\u001b[0m\u001b[1;33m(\u001b[0m\u001b[1;34m'slope = {0:.3f}'\u001b[0m\u001b[1;33m.\u001b[0m\u001b[0mformat\u001b[0m\u001b[1;33m(\u001b[0m\u001b[0mslope\u001b[0m\u001b[1;33m)\u001b[0m\u001b[1;33m)\u001b[0m\u001b[1;33m;\u001b[0m\u001b[1;33m\u001b[0m\u001b[0m\n",
      "\u001b[1;31mTypeError\u001b[0m: can only concatenate list (not \"float\") to list"
     ]
    }
   ],
   "source": []
  },
  {
   "cell_type": "code",
   "execution_count": null,
   "metadata": {},
   "outputs": [],
   "source": []
  }
 ],
 "metadata": {
  "kernelspec": {
   "display_name": "Python 3",
   "language": "python",
   "name": "python3"
  },
  "language_info": {
   "codemirror_mode": {
    "name": "ipython",
    "version": 3
   },
   "file_extension": ".py",
   "mimetype": "text/x-python",
   "name": "python",
   "nbconvert_exporter": "python",
   "pygments_lexer": "ipython3",
   "version": "3.6.5"
  }
 },
 "nbformat": 4,
 "nbformat_minor": 2
}
