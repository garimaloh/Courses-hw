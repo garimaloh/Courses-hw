{
 "cells": [
  {
   "cell_type": "markdown",
   "metadata": {},
   "source": [
    "# Lab 8\n",
    "## Basic Local Alignment Search Tool - BLAST"
   ]
  },
  {
   "cell_type": "markdown",
   "metadata": {},
   "source": [
    "BLAST is a multipurpose bioinformatics algorithm for searching a query sequence against a\n",
    "database of other sequences. The algorithm returns local alignments of varying significance. Today you\n",
    "will try both the on- and off-line versions of BLAST. Your goal will be to identify a protein sequence and\n",
    "then scan its host genome for duplicated genes (or other interesting alignments). You will not be coding\n",
    "in python today, but you will be asked to think about how python scripting might be useful in these\n",
    "applications.\n",
    "\n",
    "*While walking around in the lab yesterday I noticed an mRNA transcript stuck to the\n",
    "bottom of my shoe. I promptly amplified the sample and determined its sequence, which\n",
    "corresponded to the following translated protein:*\n",
    "\n"
   ]
  },
  {
   "cell_type": "raw",
   "metadata": {},
   "source": [
    ">Unknown putative shoe-interacting protein 1\n",
    "MPKKSIEEWEEDAIESVPYLASDEKGSNYKEATQIPLNLKQSEIENHPTVKPWVHFVAGGIGGMAGAVVTCPFDLVKTRLQSDIFLKAYKSQAVNISKGSTRPKSINYVIQAGTHFKETLGIIGNVYKQEGFRSLFKGLGPNLVGVIPARSINFFTYGTTKDMYAKAFNNGQETPMIHLMAAATAGWATATATNPIWLIKTRVQLDKAGKTSVRQYKNSWDCLKSVIRNEGFTGLYKGLSASYLGSVEGILQWLLYEQMKRLIKERSIEKFGYQAEGTKSTSEKVKEWCQRSGSAGLAKFVASIATYPHEVVRTRLRQTPKENGKRKYTGLVQSFKVIIKEEGLFSMYSGLTPHLMRTVPNSIIMFGTWEIVIRLLS*"
   ]
  },
  {
   "cell_type": "markdown",
   "metadata": {},
   "source": [
    "## Part A: Online BLAST\n",
    "\n",
    "Determine the identity of this protein using the blastp tool of the BLAST website (http://blast.ncbi.nlm.nih.gov).\n",
    "  \n",
    "**From which genome is it most likely to have originated?**"
   ]
  },
  {
   "cell_type": "raw",
   "metadata": {},
   "source": [
    "Saccharomyces cerevisae S288C"
   ]
  },
  {
   "cell_type": "markdown",
   "metadata": {},
   "source": [
    "Perform a second web BLAST, this time restricting the search database to the genome identified in Step A.\n",
    "  \n",
    "**Are there any duplicated copies of this protein in its host genome?**\n",
    "\n",
    "**If so, are the reported functions of the duplicates similar to those of the original protein?**\n",
    "\n",
    "**How do you explain the other significant alignments observed (if any)?**"
   ]
  },
  {
   "cell_type": "raw",
   "metadata": {},
   "source": [
    "The duplicate copies of this protein Rimp2p[Saccharomyces cerevisae S288C]. The reported functions of the duplicate are different from those of the original protein. There are other significant alignment observed as NAD+ tranasporter whose E-value> 25%"
   ]
  },
  {
   "cell_type": "markdown",
   "metadata": {},
   "source": [
    "## Part B: Local BLAST\n",
    "\n",
    "### Preliminaries\n",
    "\n",
    "Before completing this task, you must first do the following:\n",
    "\n",
    "  1. Download the files `query.fasta` and `genome.fasta` from Blackboard to your computer\n",
    "  1. Transfer these files to scc using your favorite file transfer program. MobaXterm supports SFTP sessions. SFTP is secure file trasfer protocol. If you don't have a favorite program, [FileZilla](https://filezilla-project.org/) or [cyberduck](https://cyberduck.io) is a good solution:\n",
    "    1. Click on \"Open Connection\"\n",
    "    1. Choose \"SFTP\" from the dropdown list\n",
    "    1. Enter `scc2.bu.edu` as the server name\n",
    "    1. Use your BU login name and password\n",
    "    1. Make sure port 22 is selected (for secure FTP).\n",
    "    1. Once you are connected, upload `query.fasta` and `genome.fasta` by clicking \"upload\"\n",
    "\n",
    "----\n",
    "\n",
    "**UNIX TIP:** When working on the command line, you can redirect information normally\n",
    "printed to the screen into a file by following your command with a “>” and a file name:\n",
    "\n",
    "```bash\n",
    "./program_name argument1 argument2 etc. > output_file.txt\n",
    "```\n",
    "\n",
    "You can also redirect information normally printed to the screen into another program\n",
    "by following your command with a “|” and a program name. For example, to scroll\n",
    "through your program’s output:\n",
    "\n",
    "```bash\n",
    "./program_name argument1 argument2 etc. | less\n",
    "```\n",
    "----"
   ]
  },
  {
   "cell_type": "markdown",
   "metadata": {},
   "source": [
    "### Running local BLAST\n",
    "\n",
    "To avoid the time delays of sending information over the internet and waiting in line for access to NCBI’s servers, it is often convenient to run BLAST completely offline. Typically this is done when one wishes to\n",
    "search a reduced database. BLAST is preinstalled on SCC. To make the BLAST module available load it.\n",
    "\n",
    "```bash\n",
    "module load blast\n",
    "```\n",
    "\n",
    "To see other available versions: \n",
    "```bash\n",
    "module avail blast\n",
    "```\n",
    "\n",
    "\n",
    "Before you can use BLAST to search for your sequence, you must format your database (originally in FASTA format;\n",
    "  http://en.wikipedia.org/wiki/FASTA_format) for fast searching by BLAST. This is done with the program `makeblastdb`. In order to learn more about `makeblastdb`, type the following in the command line:\n",
    "\n",
    "```bash\n",
    "makeblastdb -h\n",
    "```\n",
    "\n",
    "In order to format the database you need to search, type:\n",
    "\n",
    "```bash\n",
    "makeblastdb -in genome.fasta -dbtype prot -parse_seqids\n",
    "```\n",
    "\n",
    "The `-parse_seqids` flag parses the IDs of the input FASTA file, and makes the output database searchable by those IDs.\n",
    "\n",
    "**What does `-dbtype prot` indicate about our input file?**"
   ]
  },
  {
   "cell_type": "raw",
   "metadata": {},
   "source": [
    "-dbtype prot indicate that it contains proteins"
   ]
  },
  {
   "cell_type": "markdown",
   "metadata": {},
   "source": [
    "You can now search against this database using a variety of BLAST programs. Here we’ll use `psiblast`. To learn more about `psiblast`, type the following in the command line:\n",
    "  \n",
    "  ```bash\n",
    "  psiblast -h\n",
    "  ```\n",
    "  \n",
    "**Which arguments are needed to search the query sequence (query.fasta) against your newly formatted database (genome.fasta)?**\n",
    "  \n",
    "Run your program on the command line."
   ]
  },
  {
   "cell_type": "raw",
   "metadata": {},
   "source": [
    "psiblast-query query.fasta -db genome.fasta -out glohani.txt"
   ]
  },
  {
   "cell_type": "markdown",
   "metadata": {},
   "source": [
    "----\n",
    "**PYTHON TIP:** One advantage of using BLAST on the command line is that you can access it from your Python scripts. Imagine that instead of searching for the duplicates of one gene in your genome, you instead wished to search for duplicates of *all genes* in the genome (repeating Step B once for each gene). You would not want to do this manually. The\n",
    "python library `os` provides a method `system()` that allows you to make system calls (i.e. run commands in the Unix shell) from within python. For example:\n",
    "\n",
    "```python\n",
    "import os\n",
    "os.system(\"ls *.py > MyScripts.txt\")\n",
    "```\n",
    "\n",
    "This Python code will call Unix to create a list of your Python scripts and then pipe them (using “>”) into a file called “MyScripts.txt.” Note that you could use the same procedure to execute the BLAST commands that you discovered earlier.\n",
    "\n",
    "----"
   ]
  }
 ],
 "metadata": {
  "anaconda-cloud": {},
  "kernelspec": {
   "display_name": "Python 3",
   "language": "python",
   "name": "python3"
  },
  "language_info": {
   "codemirror_mode": {
    "name": "ipython",
    "version": 3
   },
   "file_extension": ".py",
   "mimetype": "text/x-python",
   "name": "python",
   "nbconvert_exporter": "python",
   "pygments_lexer": "ipython3",
   "version": "3.6.5"
  }
 },
 "nbformat": 4,
 "nbformat_minor": 1
}
