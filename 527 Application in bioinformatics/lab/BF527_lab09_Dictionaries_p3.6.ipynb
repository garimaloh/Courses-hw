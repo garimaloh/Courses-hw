{
 "cells": [
  {
   "cell_type": "markdown",
   "metadata": {},
   "source": [
    "# Lab 09\n",
    "# Dictionaries & File Input/Output\n",
    "\n",
    "Today we will learn about a new object in Python called a dictionary. A dictionary is a data object much like a list or a string. However, whereas a list stores ordered information, a dictionary stores information as key‐value pairs, much like the words and definitions in a real dictionary. You will learn how to initialize, add to, and look through dictionaries. You will also learn how to open, read, and write to files within a Python script.\n",
    "\n",
    "You will write the script yourself by following the code written in this document.\n",
    "\n",
    "REMEMBER, THE INTERNET IS YOUR FRIEND: https://docs.python.org/2.7/tutorial/"
   ]
  },
  {
   "cell_type": "markdown",
   "metadata": {},
   "source": [
    "Part A: Dictionaries\n",
    "\n",
    "A dictionary is a mapping of key‐value pairs. Dictionaries are indexed by keys, which can be any immutable (i.e. unchangeable) type of data: e.g. strings and numbers. A list cannot be a key for a dictionary, because lists can be modified. In this way, dictionaries in Python are much like dictionaries in real life: there is one specific key (e.g. a word) which is associated with a value (e.g. a definition). However, in Python dictionaries are unordered sets of key‐value pairs. Additionally, the keys must be unique, i.e. if you assign a value to a key that already exists and has a key‐value pair, the old value will be overwritten. However, the values of a dictionary can be anything – i.e. a string, a number, a list, or even another dictionary! Let’s create and initialize a dictionary."
   ]
  },
  {
   "cell_type": "code",
   "execution_count": 1,
   "metadata": {},
   "outputs": [
    {
     "name": "stdout",
     "output_type": "stream",
     "text": [
      "{'Frodo': 50, 'Gandalf': 2000, 'Aragorn': 87}\n",
      "3\n",
      "dict_keys(['Frodo', 'Gandalf', 'Aragorn'])\n",
      "2000\n",
      "{'Frodo': 53, 'Aragorn': 87, 'Legolas': 800}\n",
      "{'Joshua': 'Loving', 'Sara': [1, 2, 3, 4, 5], 'Colors': {'Red': 10, 'Blue': 20, 'Orange': 'Black'}}\n",
      "Name ( Age )\n",
      "Frodo ( 53 )\n",
      "Aragorn ( 87 )\n",
      "Legolas ( 800 )\n"
     ]
    }
   ],
   "source": [
    "#!/usr/bin/python\n",
    "\n",
    "#whereas lists are declared with square braces: []\n",
    "#dictionaries are declared with curly braces: {}\n",
    "dict = {}         #empty dictionary\n",
    "\n",
    "#use (:) to denote key:value pairs, and (,) to separate pairs\n",
    "#this dictionary lists the ages of characters by their names\n",
    "ages = {'Frodo':50, 'Gandalf':2000, 'Aragorn':87}\n",
    "print (ages)  #prints dictionary\n",
    "print (len(ages)) #prints number of keys\n",
    "print (ages.keys())  #prints keys, i.e. names\n",
    "print (ages['Gandalf'])  #prints Gandalf's age\n",
    "\n",
    "#adding and updating the dictionary\n",
    "ages['Legolas'] = 800  #add a new item to the dictionary\n",
    "ages['Frodo'] += 3  #change a value; Frodo ages 3 years\n",
    "del ages['Gandalf']  #deletes a key-value pair\n",
    "print (ages)\n",
    "\n",
    "#NOTE: you can only change the value of an existing key\n",
    "#i.e. the following will not work: ages['Vader'] += 1\n",
    "#because 'Vader' does not exist in the dictionary yet\n",
    "#keys can only be immutable (i.e. a string, number, etc.)\n",
    "#values can be anything, even other dictionaries!\n",
    "\n",
    "#fancy dictionary with strings and lists as values\n",
    "fancy = {'Joshua':'Loving', 'Sara':[1,2,3,4,5]}\n",
    "fancy['Colors'] = {'Red':10, 'Blue':20, 'Orange':'Black'}\n",
    "print (fancy)\n",
    "\n",
    "#looping through dictionaries\n",
    "#use brackets [] to access the value of a key\n",
    "print ('Name ( Age )')\n",
    "for name in ages:\n",
    "      print (name, '(', ages[name], ')')"
   ]
  },
  {
   "cell_type": "markdown",
   "metadata": {},
   "source": [
    "Part B: opening and writing to files\n",
    "\n",
    "We can use the function open to open existing files, and to create new file. We can create a new type of object, file, which is a reference to physical information on the hard disk; this is also known as a “file handle”. The function open takes one required argument (the file name), and an optional argument dictating what will be done with the file. The option ‘r’ is for reading information from a file, ‘w’ is for writing to a file (this will overwrite an existing file if used), and ‘a’ is for appending to a file (adding more lines to an existing file)."
   ]
  },
  {
   "cell_type": "code",
   "execution_count": null,
   "metadata": {
    "collapsed": true
   },
   "outputs": [],
   "source": [
    "#create a new file. A file handle is used to access the file object.\n",
    "handle = open('new_file.txt', 'w')\n",
    "\n",
    "#handle represents the file object, and has file methods\n",
    "#the write() method will write to a file\n",
    "#note: write() is a lot like print, but it will NOT add a newline\n",
    "#use \\n to add a newline (enter) after each line\n",
    "handle.write('My FIRST line of text! \\n')\n",
    "handle.write('My SECOND line of text! \\n')\n",
    "handle.write('My THIRD line of text! \\n')\n",
    "handle.close()    #close the file in order to access it\n",
    "\n",
    "#If you look at the file now, you should have 3 lines\n",
    "#trying to write again (handle.write('FOURTH LINE!') will not work"
   ]
  },
  {
   "cell_type": "markdown",
   "metadata": {},
   "source": [
    "Part C: reading files\n",
    "\n",
    "Now that we’ve looked at opening and writing files, let’s work on reading the information from existing files. In order to read information from a file, that file has to exist (i.e. we cannot read information from a file that has not been created). We also need to open the file in order to access the information."
   ]
  },
  {
   "cell_type": "code",
   "execution_count": 11,
   "metadata": {},
   "outputs": [
    {
     "ename": "FileNotFoundError",
     "evalue": "[Errno 2] No such file or directory: 'new_file.txt'",
     "output_type": "error",
     "traceback": [
      "\u001b[1;31m---------------------------------------------------------------------------\u001b[0m",
      "\u001b[1;31mFileNotFoundError\u001b[0m                         Traceback (most recent call last)",
      "\u001b[1;32m<ipython-input-11-f6ff31143c08>\u001b[0m in \u001b[0;36m<module>\u001b[1;34m()\u001b[0m\n\u001b[0;32m      1\u001b[0m \u001b[1;31m#open the file we just created, to read\u001b[0m\u001b[1;33m\u001b[0m\u001b[1;33m\u001b[0m\u001b[0m\n\u001b[0;32m      2\u001b[0m \u001b[1;31m#we can also just use open('new_file.txt'); the default is to read\u001b[0m\u001b[1;33m\u001b[0m\u001b[1;33m\u001b[0m\u001b[0m\n\u001b[1;32m----> 3\u001b[1;33m \u001b[0mreadIt\u001b[0m \u001b[1;33m=\u001b[0m \u001b[0mopen\u001b[0m\u001b[1;33m(\u001b[0m\u001b[1;34m'new_file.txt'\u001b[0m\u001b[1;33m,\u001b[0m \u001b[1;34m'r'\u001b[0m\u001b[1;33m)\u001b[0m\u001b[1;33m\u001b[0m\u001b[0m\n\u001b[0m\u001b[0;32m      4\u001b[0m \u001b[1;33m\u001b[0m\u001b[0m\n\u001b[0;32m      5\u001b[0m \u001b[1;31m#we can use readline() to read each line individually\u001b[0m\u001b[1;33m\u001b[0m\u001b[1;33m\u001b[0m\u001b[0m\n",
      "\u001b[1;31mFileNotFoundError\u001b[0m: [Errno 2] No such file or directory: 'new_file.txt'"
     ]
    }
   ],
   "source": [
    "#open the file we just created, to read\n",
    "#we can also just use open('new_file.txt'); the default is to read\n",
    "readIt = open('new_file.txt', 'r')\n",
    "\n",
    "#we can use readline() to read each line individually\n",
    "#when reading a file, we cannot see what is being read\n",
    "#unless we print the line or save it to a variable\n",
    "readIt.readline()  # first line, can't see it\n",
    "print (readIt.readline())  # second line, can see it\n",
    "saveIt = readIt.readline()  # third line, saved\n",
    "readIt.close()\n",
    "\n",
    "print (saveIt + 'is my favorite')    # note the newline\n",
    "#we can use strip() to remove the terminal newline\n",
    "print (saveIt.strip() + ' is my favorite again')\n",
    "\n",
    "#we can also use a for loop to read in the contents of a file\n",
    "#here we read in the file using the default read ('r')\n",
    "readItAll = open('new_file.txt')\n",
    "counter = 1\n",
    "for line in readItAll:\n",
    "      print ('Line #', counter, ': ', line.strip())\n",
    "      counter += 1"
   ]
  },
  {
   "cell_type": "markdown",
   "metadata": {},
   "source": [
    "BACKGROUND: The FASTA file format (pronounced “fast‐A”; stands for “fast all”) is a common mode for storing DNA and protein sequence information. A FASTA file containing three sequences looks like this:"
   ]
  },
  {
   "cell_type": "raw",
   "metadata": {},
   "source": [
    ">sp|P02144|MYG_HUMAN Myoglobin OS=Homo sapiens GN=MB PE=1 SV=2 MGLSDGEWQLVLNVWGKVEADIPGHGQEVLIRLFKGHPETLEKFDKFKHLKSEDEMKASE DLKKHGATVLTALGGILKKKGHHEAEIKPLAQSHATKHKIPVKYLEFISECIIQVLQSKH PGDFGADAQGAMNKALELFRKDMASNYKELGFQG\n",
    ">sp|P02189|MYG_PIG Myoglobin OS=Sus scrofa GN=MB PE=1 SV=2 MGLSDGEWQLVLNVWGKVEADVAGHGQEVLIRLFKGHPETLEKFDKFKHLKSEDEMKASE DLKKHGNTVLTALGGILKKKGHHEAELTPLAQSHATKHKIPVKYLEFISEAIIQVLQSKH PGDFGADAQGAMSKALELFRNDMAAKYKELGFQG\n",
    ">sp|P04247|MYG_MOUSE Myoglobin OS=Mus musculus GN=Mb PE=1 SV=3 MGLSDGEWQLVLNVWGKVEADLAGHGQEVLIGLFKTHPETLDKFDKFKNLKSEEDMKGSE DLKKHGCTVLTALGTILKKKGQHAAEIQPLAQSHATKHKIPVKYLEFISEIIIEVLKKRH SGDFGADAQGAMSKALELFRNDIAAKYKELGFQG"
   ]
  },
  {
   "cell_type": "markdown",
   "metadata": {},
   "source": [
    "Each sequence is preceded by a line starting with “>” that contains header information: e.g., identification numbers for this sequence, the name of the sequence, and the organism from which it is derived, etc. All remaining lines store continuous sequence information. When it comes time to manipulate the sequence within a program, it is usually convenient to have it stored as a single string (rather than split across lines)."
   ]
  },
  {
   "cell_type": "markdown",
   "metadata": {},
   "source": [
    "LAB TASK: Implement a program in python that will open a FASTA file, concatenate its multiline sequences into single strings, store them in a dictionary using the sequence ID from the sequence header (value between the “|” symbols) as a key, and then print the IDs and sequences as two columns in a new file.\n",
    "\n",
    "OBJECTIVE(S):"
   ]
  },
  {
   "cell_type": "markdown",
   "metadata": {},
   "source": [
    "1. Write your code in the block below. Download the file called ‘myoglobin.fasta’ from Blackboard, and make sure to save it in the same location as your lab task script.\n",
    "2. Create an empty dictionary to store sequence information.\n",
    "3. Using the open function, open the FASTA file (‘myoglobin.fasta’).\n",
    "4. When you find a line beginning with the “>” character (a header) extract the ID code between the “|” symbols and start a new dictionary entry using the ID as a key.\n",
    "5. If a line isn’t a header (i.e. it is a sequence), strip off the newline character at the end and append the sequence to a growing string (to the growing sequence that is the dictionary value) stored within the most recent dictionary key.\n",
    "6. Close the original file.\n",
    "7. Open a new file for writing, e.g. “myoglobin_processed.txt”.\n",
    "8. Loop through the dictionary and write the ID keys and their corresponding sequences to the new file, separating them with a tab (‘\\t’) to generate two columns.\n",
    "9. Close the new file.\n",
    "10. Run your script. Upload the script and output (‘myoglobin_processed.txt’) to Blackboard for lab credit. Don’t forget comments!\n",
    "\n",
    "Your output for two sequences should look like this (note how the sequence now is a single string):\n",
    "\n",
    "P02189\tMGLSDGEWQLVLNVWGKVEADVAGHGQEVLIRLFKGHPETLEKFDKFKHLKSEDEMKASEDLKKHGNTVLTALGGILKKKGHHEAELTPLAQSHATKHKIPVKYLEFISEAIIQVLQSKHPGDFGADAQGAMSKALELFRNDMAAKYKELGFQG\n",
    "\n",
    "P04247 MGLSDGEWQLVLNVWGKVEADLAGHGQEVLIGLFKTHPETLDKFDKFKNLKSEEDMKGSEDLKKHGCTVLTALGTILKKKGQHAAEIQPLAQSHATKHKIPVKYLEFISEIIIEVLKKRHSGDFGADAQGAMSKALELFRNDIAAKYKELGFQG"
   ]
  },
  {
   "cell_type": "code",
   "execution_count": 4,
   "metadata": {},
   "outputs": [],
   "source": [
    "\n",
    "    \n",
    " \n",
    " \n",
    " "
   ]
  },
  {
   "cell_type": "code",
   "execution_count": 5,
   "metadata": {},
   "outputs": [
    {
     "name": "stdout",
     "output_type": "stream",
     "text": [
      "C:\\Users\\GARIMA\\Desktop\\BF527Application in Bioinformatics\\submission due\\oct 13\n"
     ]
    },
    {
     "ename": "FileNotFoundError",
     "evalue": "[Errno 2] No such file or directory: 'blast_results(1).csv'",
     "output_type": "error",
     "traceback": [
      "\u001b[1;31m---------------------------------------------------------------------------\u001b[0m",
      "\u001b[1;31mFileNotFoundError\u001b[0m                         Traceback (most recent call last)",
      "\u001b[1;32m<ipython-input-5-f3cbd680f3a7>\u001b[0m in \u001b[0;36m<module>\u001b[1;34m()\u001b[0m\n\u001b[0;32m      3\u001b[0m \u001b[0ms\u001b[0m\u001b[1;33m=\u001b[0m\u001b[0mos\u001b[0m\u001b[1;33m.\u001b[0m\u001b[0mgetcwd\u001b[0m\u001b[1;33m(\u001b[0m\u001b[1;33m)\u001b[0m\u001b[1;33m\u001b[0m\u001b[0m\n\u001b[0;32m      4\u001b[0m \u001b[0mprint\u001b[0m\u001b[1;33m(\u001b[0m\u001b[0ms\u001b[0m\u001b[1;33m)\u001b[0m\u001b[1;33m\u001b[0m\u001b[0m\n\u001b[1;32m----> 5\u001b[1;33m \u001b[0mf\u001b[0m\u001b[1;33m=\u001b[0m\u001b[0mopen\u001b[0m\u001b[1;33m(\u001b[0m\u001b[1;34m\"blast_results(1).csv\"\u001b[0m\u001b[1;33m,\u001b[0m\u001b[1;34m'r'\u001b[0m\u001b[1;33m)\u001b[0m\u001b[1;33m\u001b[0m\u001b[0m\n\u001b[0m\u001b[0;32m      6\u001b[0m \u001b[1;33m\u001b[0m\u001b[0m\n\u001b[0;32m      7\u001b[0m \u001b[0msum\u001b[0m\u001b[1;33m=\u001b[0m\u001b[1;34m\"\"\u001b[0m\u001b[1;33m\u001b[0m\u001b[0m\n",
      "\u001b[1;31mFileNotFoundError\u001b[0m: [Errno 2] No such file or directory: 'blast_results(1).csv'"
     ]
    }
   ],
   "source": [
    "import numpy as np\n",
    "import os\n",
    "s=os.getcwd() \n",
    "print(s)\n",
    "f=open(\"blast_results(1).csv\",'r')\n",
    "\n",
    "sum=\"\"\n",
    "ct=0 \n",
    "for line in f:\n",
    "   \n",
    " word=line.split(',')   \n",
    " print(word[1])\n",
    " print(ct)\n",
    " ct=ct+word[1].count(\";\")+1\n",
    " num=word[12]\n",
    " print(num)\n",
    "print(\"total sunject id:\", ct) "
   ]
  },
  {
   "cell_type": "code",
   "execution_count": null,
   "metadata": {},
   "outputs": [],
   "source": []
  },
  {
   "cell_type": "code",
   "execution_count": null,
   "metadata": {},
   "outputs": [],
   "source": []
  },
  {
   "cell_type": "code",
   "execution_count": null,
   "metadata": {},
   "outputs": [],
   "source": []
  }
 ],
 "metadata": {
  "anaconda-cloud": {},
  "kernelspec": {
   "display_name": "Python 3",
   "language": "python",
   "name": "python3"
  },
  "language_info": {
   "codemirror_mode": {
    "name": "ipython",
    "version": 3
   },
   "file_extension": ".py",
   "mimetype": "text/x-python",
   "name": "python",
   "nbconvert_exporter": "python",
   "pygments_lexer": "ipython3",
   "version": "3.6.5"
  }
 },
 "nbformat": 4,
 "nbformat_minor": 1
}
