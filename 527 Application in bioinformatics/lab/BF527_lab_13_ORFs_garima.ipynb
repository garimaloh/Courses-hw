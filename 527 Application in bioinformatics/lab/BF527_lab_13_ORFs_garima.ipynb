{
 "cells": [
  {
   "cell_type": "markdown",
   "metadata": {},
   "source": [
    "# Lab 13\n",
    "\n",
    "## Open Reading Frames & Virtual Ribosome"
   ]
  },
  {
   "cell_type": "markdown",
   "metadata": {},
   "source": [
    "__BACKGROUND__: Given a DNA coding sequence, we frequently wish to see the corresponding protein sequence that it represents. We can do this by building a python program to translate the DNA sequence codon‐by‐codon into a protein (amino acid) sequence, somewhat like a \"virtual ribosome.\" Such a program can also be useful for gene finding: we can translate a given DNA sequence in all six possible reading frames and look for an open reading frame (ORF). Recall from the lecture that an ORF is a stretch of DNA sequence that begins with a start/methionine codon (ATG), proceeds for some significant length without a stop codon (UAA, UAG, UGA), and then finally terminates with a stop codon."
   ]
  },
  {
   "cell_type": "markdown",
   "metadata": {},
   "source": [
    "__TASK__: Build a virtual ribosome program that will translate the three positive reading frames of a given DNA sequence. Find the true reading frame and identify the corresponding protein using BLAST."
   ]
  },
  {
   "cell_type": "markdown",
   "metadata": {},
   "source": [
    "### Part A: load the DNA sequence\n",
    "\n",
    "In order to use a script to translate the DNA sequence into an amino acid sequence, first we need to load the sequence. The DNA sequence is provided for you in FASTA format as part of the lab materials on eng-grid (```dna.fasta```). If you followed the instructions, this file should be in the same directory as the current notebook.\n",
    "\n",
    "Write python code to read in `dna.fasta` and create a variable that contains the concatenated DNA sequence as a string. You may use or adapt your solution from Lab 9 for this purpose."
   ]
  },
  {
   "cell_type": "code",
   "execution_count": 25,
   "metadata": {},
   "outputs": [
    {
     "name": "stdout",
     "output_type": "stream",
     "text": [
      "CTAGGCTAATGCAAATTTTTGTCAAGACTTTGACTGGTAAGACCATCACTTTGGAAGTTGAATCTTCTGACACTATTGACAATGTCAAGTCAAAGATTCAAGACAAGGAAGGTATCCCACCTGACCAACAAAGATTGATCTTTGCTGGTAAGCAATTGGAAGACGGTAGAACCTTGTCTGACTACAACATTCAAAAAGAATCCACTTTGCACTTAGTCTTGAGATTGAGAGGTGGTATCATTGAACCATCTTTGAAAGCTTTGGCTTCCAAGTACAACTGTGACAAATCTGTTTGCCGTAAGTGTTATGCTAGATTGCCACCAAGAGCTACCAACTGTAGAAAGAGAAAGTGTGGTCACACCAACCAATTGCGTCCAAAGAAGAAGTTAAAATGACGGATTCCGGATCTCGCGCTAG\n"
     ]
    }
   ],
   "source": [
    "##Add your python code here:\n",
    "with open('dna.fasta', 'r') as file:\n",
    "  next(file)\n",
    " #skip first line\n",
    "\n",
    "  dna = ''\n",
    " #string to concatenate sequence in dna variable\n",
    "\n",
    "  for line in file:\n",
    "    if line == '>':\n",
    "        dna = ''\n",
    "    else:\n",
    "      dna += (line.strip('\\n')) # storing the DNA sequence\n",
    "\n",
    "  print (dna)\n",
    "\n"
   ]
  },
  {
   "cell_type": "markdown",
   "metadata": {},
   "source": [
    "### Part B: load and store the genetic code\n",
    "\n",
    "In order to translate from DNA to protein, we must know which codons code for which amino acids, and this is best accomplished by saving the information as a dictionary. We have provided the genetic code as a separate file on Blackboard (```universal_genetic_code.tab```). Each of the 64 lines in the file looks like: ```AAA\\tB\\n```, i.e. the three‐letter codon, a tab (\\t), the single‐letter amino acid designation, and a newline character (\\n).\n",
    "\n",
    "1. Read this file line‐by‐line.\n",
    "2. Split each line into a codon string and a one‐letter amino acid string.\n",
    "3. Store this pair in a dictionary, with the codon being the key, and the amino acid being the value.\n",
    "\n",
    "A \"```*```\" is used to represent a translated STOP codon.\n",
    "\n",
    "__HINT__: we accomplished a similar task, i.e. splitting a string into substrings and then using those substrings to build a dictionary, in Lab 9."
   ]
  },
  {
   "cell_type": "code",
   "execution_count": 29,
   "metadata": {},
   "outputs": [
    {
     "name": "stdout",
     "output_type": "stream",
     "text": [
      "{'AAA': 'K', 'AAC': 'N', 'AAG': 'K', 'AAT': 'N', 'ACA': 'T', 'ACC': 'T', 'ACG': 'T', 'ACT': 'T', 'AGA': 'R', 'AGC': 'S', 'AGG': 'R', 'AGT': 'S', 'ATA': 'I', 'ATC': 'I', 'ATG': 'M', 'ATT': 'I', 'CAA': 'Q', 'CAC': 'H', 'CAG': 'Q', 'CAT': 'H', 'CCA': 'P', 'CCC': 'P', 'CCG': 'P', 'CCT': 'P', 'CGA': 'R', 'CGC': 'R', 'CGG': 'R', 'CGT': 'R', 'CTA': 'L', 'CTC': 'L', 'CTG': 'L', 'CTT': 'L', 'GAA': 'E', 'GAC': 'D', 'GAG': 'E', 'GAT': 'D', 'GCA': 'A', 'GCC': 'A', 'GCG': 'A', 'GCT': 'A', 'GGA': 'G', 'GGC': 'G', 'GGG': 'G', 'GGT': 'G', 'GTA': 'V', 'GTC': 'V', 'GTG': 'V', 'GTT': 'V', 'TAA': '*', 'TAC': 'Y', 'TAG': '*', 'TAT': 'Y', 'TCA': 'S', 'TCC': 'S', 'TCG': 'S', 'TCT': 'S', 'TGA': '*', 'TGC': 'C', 'TGG': 'W', 'TGT': 'C', 'TTA': 'L', 'TTC': 'F', 'TTG': 'L', 'TTT': 'F'}\n"
     ]
    }
   ],
   "source": [
    "##Add your python code here:\n",
    "with open('universal_genetic_code.tab','r') as file:\n",
    " mydict = {}          # dictionary to store value of gentic codon\n",
    " for line in file:\n",
    "    gen = line.split(\"\\t\")\n",
    "    mydict[gen[0]] = gen[1].strip() #storing the genetic codon in mydict\n",
    "    \n",
    " print(mydict) \n"
   ]
  },
  {
   "cell_type": "markdown",
   "metadata": {},
   "source": [
    "### Part C: translating from DNA to protein in 3 frames\n",
    "\n",
    "We have loaded our DNA sequence, and saved all of the genetic code to an accessible file. Now we need to split the DNA into codons and use our dictionary to translate this into amino acids. However, we need to do this in three reading frames!\n",
    "\n",
    "1. Use a for loop and the functions range and len to split the DNA into codons. __HINT__: in Lab 6 we used ```range``` and ```len``` to build a matrix. Although we don’t want to build a matrix, we want to make use of the step function of ```range``` in order to change the opening reading frame.\n",
    "2. Translate the codons of the DNA sequence by looking the codons up in the dictionary, and printing the corresponding amino acid.\n",
    "3. Print the translated sequence to the screen, or save it or a variable to be printed later.\n",
    "4. Visually inspect the amino acid to see if it corresponds to an ORF, i.e. does it begin with a start/methionine codon (ATG)?\n",
    "5. Use BLAST to identify the protein.\n",
    "\n",
    "---\n",
    "\n",
    "```\n",
    "range(start, stop, step)\n",
    "```\n",
    "\n",
    "This function creates lists containing arithmetic progressions. It is often used in ```for``` loops. The arguments must be plain integers. If the step argument is omitted, it defaults to 1. If the start argument is omitted, it defaults to 0. The full form returns a list of plain integers ```[start, start + step, start + 2*step, ...]```.\n",
    "\n",
    "Example:\n",
    "\n",
    "```\n",
    ">>> range(10)\n",
    "[0, 1, 2, 3, 4, 5, 6, 7, 8, 9]\n",
    ">>> range(1, 11)\n",
    "[1, 2, 3, 4, 5, 6, 7, 8, 9, 10]\n",
    ">>> range(0, 30, 5)\n",
    "[0, 5, 10, 15, 20, 25]\n",
    "```\n",
    "\n",
    "---"
   ]
  },
  {
   "cell_type": "code",
   "execution_count": 27,
   "metadata": {},
   "outputs": [
    {
     "name": "stdout",
     "output_type": "stream",
     "text": [
      "reading frame 1 LG*\n",
      "reading frame 2 *\n",
      "reading frame 3 RLMQIFVKTLTGKTITLEVESSDTIDNVKSKIQDKEGIPPDQQRLIFAGKQLEDGRTLSDYNIQKESTLHLVLRLRGGIIEPSLKALASKYNCDKSVCRKCYARLPPRATNCRKRKCGHTNQLRPKKKLK*\n"
     ]
    }
   ],
   "source": [
    "\n",
    "\n",
    "##Add your python code here:\n",
    "def orf(dna):\n",
    "    for start in range(3):              #creates three reading frames in forward direction\n",
    "        protein = ''                    #variable to concatenate the protein\n",
    "        for i in range(start,len(dna),3):\n",
    "            seq = dna[i:i+3]            #read a codon which is a three cosecutive letter\n",
    "\n",
    "            aa =  mydict[seq]\n",
    "            \n",
    "            protein += aa             #store the protein sequence\n",
    "\n",
    "            if aa == '*':             # terminate the protein sequence if there is a stop codon \n",
    "                print(\"reading frame\",start+1,protein)\n",
    "                break\n",
    "orf(dna)        "
   ]
  },
  {
   "cell_type": "code",
   "execution_count": 28,
   "metadata": {},
   "outputs": [
    {
     "ename": "SyntaxError",
     "evalue": "invalid syntax (<ipython-input-28-fee5931dcf72>, line 1)",
     "output_type": "error",
     "traceback": [
      "\u001b[1;36m  File \u001b[1;32m\"<ipython-input-28-fee5931dcf72>\"\u001b[1;36m, line \u001b[1;32m1\u001b[0m\n\u001b[1;33m    There are three reading frames.The third reading frame has stop codon M(ATG).Using Blast I identifies the protein to be in ubiquitin-ribosomal 60S subunit protein L40A fusion protein [Saccharomyces cerevisiae S288C]\u001b[0m\n\u001b[1;37m            ^\u001b[0m\n\u001b[1;31mSyntaxError\u001b[0m\u001b[1;31m:\u001b[0m invalid syntax\n"
     ]
    }
   ],
   "source": [
    "There are three reading frames.The third reading frame has stop codon M(ATG).Using Blast I identified the protein to be ubiquitin-ribosomal 60S subunit protein L40A fusion protein [Saccharomyces cerevisiae S288C]"
   ]
  },
  {
   "cell_type": "markdown",
   "metadata": {},
   "source": [
    "### EXTRA: translating from DNA to protein in 6 frames\n",
    "\n",
    "This is __NOT REQUIRED__ for completion of the lab. However, if you would like a personal challenge, we encourage you to translate the DNA sequence in the full 6 frames. There are an additional 3 reading frames in the reverse complement of the DNA sequence that could also code for a protein. The \"reverse complement\" of a sequence is backwards and the complementary nucleotides are used (e.g. the reverse complement of \"```ATTTGC```\" is \"```GCAAAT```\").\n",
    "\n",
    "1. Build the reverse complement in a new variable by, e.g. using a for loop to read the original DNA sequence, and concatenating or adding the complementary nucleotide. Make sure the output is reversed!\n",
    "2. Now you can use the code you wrote for Part C to also translate this extra sequence."
   ]
  },
  {
   "cell_type": "code",
   "execution_count": 23,
   "metadata": {},
   "outputs": [
    {
     "name": "stdout",
     "output_type": "stream",
     "text": [
      "reading frame 1 LG*\n",
      "reading frame 2 *\n",
      "reading frame 3 RLMQIFVKTLTGKTITLEVESSDTIDNVKSKIQDKEGIPPDQQRLIFAGKQLEDGRTLSDYNIQKESTLHLVLRLRGGIIEPSLKALASKYNCDKSVCRKCYARLPPRATNCRKRKCGHTNQLRPKKKLK*\n",
      "Next three protein reading\n",
      "reading frame 1 LARDPESVILTSSLDAIGWCDHTFSFYSW*\n",
      "reading frame 2 *\n",
      "reading frame 3 SARSGIRHFNFFFGRNWLV*\n"
     ]
    }
   ],
   "source": [
    "        \n",
    "        \n",
    "#Defining a fucntion that  returns the complemented the DNA sequence\n",
    "def complement(sequences):\n",
    "    complement = {'A': 'T', 'C': 'G', 'G': 'C', 'T': 'A'} #collection of complement base pairs\n",
    "    bases = list(sequences)                               #converting bases into a list \n",
    "    bases = [complement[base] for base in bases]          #finding the complementary base\n",
    "    return ''.join(bases)                                 #return all complemented bases\n",
    "def reverse_complement(string):\n",
    "    return complement(string[::-1])                       #reading the sequence backwards\n",
    "\n",
    "\n",
    "orf(dna)                                                  # three open reading frames in forward direction in a DNA sequence\n",
    "print(\"Next three protein reading\")\n",
    "orf(reverse_complement(dna))                              # three open reading frames in backward direction in a DNA sequence"
   ]
  },
  {
   "cell_type": "code",
   "execution_count": null,
   "metadata": {},
   "outputs": [],
   "source": []
  }
 ],
 "metadata": {
  "anaconda-cloud": {},
  "kernelspec": {
   "display_name": "Python 3",
   "language": "python",
   "name": "python3"
  },
  "language_info": {
   "codemirror_mode": {
    "name": "ipython",
    "version": 3
   },
   "file_extension": ".py",
   "mimetype": "text/x-python",
   "name": "python",
   "nbconvert_exporter": "python",
   "pygments_lexer": "ipython3",
   "version": "3.6.5"
  }
 },
 "nbformat": 4,
 "nbformat_minor": 1
}
