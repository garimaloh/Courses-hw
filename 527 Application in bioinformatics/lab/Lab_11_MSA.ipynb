{
 "cells": [
  {
   "cell_type": "markdown",
   "metadata": {},
   "source": [
    "# Lab 11\n",
    "\n",
    "## Multiple Sequence Alignment"
   ]
  },
  {
   "cell_type": "markdown",
   "metadata": {},
   "source": [
    "__Background__: Multiple sequence alignment algorithms are used to align 3 or more sequences and\n",
    "viewers display regions that are conserved across all sequences. Conserved regions within proteins\n",
    "often correspond to functional domains. For example, transcription factors contain one or more of\n",
    "limited DNA binding domain classes. Domain classes include winged helices and zinc fingers whose\n",
    "structures provide clues into binding mechanisms. Other functional domains include protein-protein\n",
    "interaction and kinase domains.\n",
    "\n",
    "__MSA Viewers__: A popular Java-based MSA viewer called JalView can be deployed directly from the [jalview website](http://www.jalview.org/). There are many alternative downloadable or online viewers as well. Most viewers take Clustal alignment (.aln) files as input. Unfortunately, Java based alignment may or may not work on the lab machines. However, you can use an HTML based viewer called Kalignvu at http://msa.sbc.su.se/cgi-bin/msa.cgi?mode=viewer_input_page. Simply copy and paste the alignment from Clustal in the input box and click “Submit”. If you are using your own machine, we recommend using JalView – just open the website and click on the JalView Desktop button in the upper right corner.\n",
    "\n",
    "__TASK__: Identify whether there are any conserved regions amongst the following 5 human transcription factors: \n",
    "\n",
    "* ATF1\n",
    "* BACH1\n",
    "* CEBPE\n",
    "* FOS\n",
    "* JUN"
   ]
  },
  {
   "cell_type": "markdown",
   "metadata": {},
   "source": [
    "### Task 1\n",
    "\n",
    "__Objectives__:\n",
    "\n",
    "**(1)** Find the protein sequences in UniProt (http://www.uniprot.org/) and create a single FASTA file with all the entries.\n",
    "\n",
    "__Tip__: Add 'human' to limit the search; e.g. ATF1 HUMAN.  Then select the first entry, and click on  Add to Basket at the top middle. Once you have added all the sequences to your basket, you can click on the basket and Download a single fasta file with all the selected sequences.\n",
    "\n",
    "**(2)** Run [Clustal](http://www.ebi.ac.uk/Tools/msa/clustalo/) with default settings to identify any conserved regions in the 5 transcription factors. Explore results with Kalignvu or JalView.\n",
    "\n",
    "__Tip__: To run JalView from enggrid, run the following command:\n",
    "\n",
    "```\n",
    "/usr/java/jre1.8.0_73/bin/javaws http://www.jalview.org/webstart/jalview.jnlp &\n",
    "```\n",
    "\n",
    "**(3)** Answer the following questions:\n",
    "* Is there a conserved region?"
   ]
  },
  {
   "cell_type": "raw",
   "metadata": {},
   "source": [
    "Yes"
   ]
  },
  {
   "cell_type": "markdown",
   "metadata": {},
   "source": [
    "* Are there multiple conserved regions?"
   ]
  },
  {
   "cell_type": "raw",
   "metadata": {},
   "source": [
    "Yes"
   ]
  },
  {
   "cell_type": "markdown",
   "metadata": {},
   "source": [
    "* How long is the longest such region?"
   ]
  },
  {
   "cell_type": "raw",
   "metadata": {},
   "source": [
    "40"
   ]
  },
  {
   "cell_type": "markdown",
   "metadata": {},
   "source": [
    "* What are possible explanations for the longest conserved region?"
   ]
  },
  {
   "cell_type": "raw",
   "metadata": {},
   "source": [
    "It suggests that these proteins have the same function as they have the same conserved region."
   ]
  },
  {
   "cell_type": "markdown",
   "metadata": {},
   "source": [
    "* What are the most conserved residues in the region?"
   ]
  },
  {
   "cell_type": "raw",
   "metadata": {},
   "source": [
    "R, A, N, L "
   ]
  },
  {
   "cell_type": "markdown",
   "metadata": {},
   "source": [
    "* What do conserved residues suggest?"
   ]
  },
  {
   "cell_type": "raw",
   "metadata": {},
   "source": [
    "They suggest that these residues are really important for the protein. For eg, it's making it twist. It's really important for normal protein functioning."
   ]
  },
  {
   "cell_type": "markdown",
   "metadata": {},
   "source": [
    "**(4) Run MSA using [MUSCLE](http://www.ebi.ac.uk/Tools/msa/muscle/) and [T-Coffee](http://tcoffee.crg.cat/apps/tcoffee/do:regular) with default settings in different browser windows. Open results in Kalignvu or JalView for all three (including Clustal) and compare the results.\n",
    "\n",
    "* Are the results different?"
   ]
  },
  {
   "cell_type": "raw",
   "metadata": {},
   "source": [
    "\n",
    "\n",
    "\n",
    "\n",
    "\n",
    "\n",
    "\n",
    "\n",
    "\n",
    "\n",
    "\n",
    "\n",
    "\n",
    "\n",
    "\n",
    "\n",
    "\n",
    "\n",
    "\n",
    "\n",
    "\n",
    "\n",
    "\n",
    "Yes"
   ]
  },
  {
   "cell_type": "markdown",
   "metadata": {},
   "source": [
    "* Does one algorithm provide a better alignment than the others?"
   ]
  },
  {
   "cell_type": "raw",
   "metadata": {},
   "source": [
    "MUSCLE is better because it fixes the indels and you see more conserved regions."
   ]
  },
  {
   "cell_type": "markdown",
   "metadata": {},
   "source": [
    "### Task 2\n",
    "\n",
    "The conserved domain name in the transcription factors above can be determined by mapping the following indices to a piece of text (download text from Blackboard: zen_of_python.txt). You should use Google and/or Wikipedia to find key residues in the aligned domain."
   ]
  },
  {
   "cell_type": "code",
   "execution_count": 10,
   "metadata": {},
   "outputs": [],
   "source": [
    "indices = [19,  239, 134, 726, 258, 410, 152, 663, 57, 67, 71, 558,\n",
    "           683, 812, 4,   303, 11,  344, 486, 79]"
   ]
  },
  {
   "cell_type": "markdown",
   "metadata": {},
   "source": [
    "__Objectives__:\n",
    "\n",
    "1. Write your script in the box below.\n",
    "2. Download the file called 'zen_of_python.txt' from Blackboard, and make sure to save it in the same location as your jupyter notebook.\n",
    "3. Initialize an empty string to hold all the text in 'zen_of_python.txt'.\n",
    "4. Open the text file and store contents in a string.  Loop through each line and strip each line of the ```\\n``` character, then add that line to the empty string.  At the end you should have a single string with the entire file contents.\n",
    "5. Convert the string to upper case.\n",
    "6. Create an empty string variable to hold the answer.\n",
    "7. Loop through the indices listed above and concatenate the character in the text at each index position to the answer variable.\n",
    "8. Print the answer\n",
    "\n",
    "__Hint: this is very similar to Homework #2, problem 2.2!__\n",
    "\n",
    "Save a copy of this notebook and upload it to blackboard for credit."
   ]
  },
  {
   "cell_type": "code",
   "execution_count": 27,
   "metadata": {},
   "outputs": [
    {
     "name": "stdout",
     "output_type": "stream",
     "text": [
      "The Zen of Python, by Tim PetersBeautiful is better than ugly.Explicit is better than implicit.Simple is better than complex.Complex is better than complicated.Flat is better than nested.Sparse is better than dense.Readability counts.Special cases aren't special enough to break the rules.Although practicality beats purity.Errors should never pass silently.Unless explicitly silenced.In the face of ambiguity, refuse the temptation to guess.There should be one-- and preferably only one --obvious way to do it.Although that way may not be obvious at first unless you're Dutch.Now is better than never.Although never is often better than *right* now.If the implementation is hard to explain, it's a bad idea.If the implementation is easy to explain, it may be a good idea.Namespaces are one honking great idea -- let's do more of those!\n",
      "\n",
      "BASIC LEUCINE ZIPPER\n"
     ]
    }
   ],
   "source": [
    "string=\"\"\n",
    "f=open(\"zen_of_python.txt\",'r')  # reading text file\n",
    "for line in f:\n",
    "  string= string+line.strip(\"\\n\") # strip() each character\n",
    "print(string)\n",
    "string=string.upper()  # change case to upppercase\n",
    "answer=\"\"\n",
    "print()\n",
    "for i in indices:\n",
    " answer= answer + string[i]   # print string at particular position in indices\n",
    "print(answer)\n",
    "\n"
   ]
  },
  {
   "cell_type": "code",
   "execution_count": null,
   "metadata": {},
   "outputs": [],
   "source": []
  }
 ],
 "metadata": {
  "kernelspec": {
   "display_name": "Python 3",
   "language": "python",
   "name": "python3"
  },
  "language_info": {
   "codemirror_mode": {
    "name": "ipython",
    "version": 3
   },
   "file_extension": ".py",
   "mimetype": "text/x-python",
   "name": "python",
   "nbconvert_exporter": "python",
   "pygments_lexer": "ipython3",
   "version": "3.6.5"
  }
 },
 "nbformat": 4,
 "nbformat_minor": 1
}
