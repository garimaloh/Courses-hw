{
 "cells": [
  {
   "cell_type": "markdown",
   "metadata": {},
   "source": [
    "# Lab 6\n",
    "## Importing and Creating Functions"
   ]
  },
  {
   "cell_type": "markdown",
   "metadata": {},
   "source": [
    "Today we will learn about how to import and use functions in Python. A function is a block of code that performs a specific action, and can be referenced multiple times. Functions are important because they allow you to re‐use pieces of code with different inputs and parameters. Python has many built‐in and pre‐loaded functions (e.g. ```len()```, ```range()```, ```sum()```, ```min()```, and ```max()```); however, there are also many other functions that are stored separately in libraries, which are not automatically loaded. In addition, it is possible to write user‐defined functions that can be embedded within a script, or stored in separate user‐created libraries. You will learn how to import functions that are not automatically loaded by Python. You will also learn how to write your own functions and store and call them within a script.\n",
    "\n",
    "You will follow along in a Jupyter notebook, and run the code as we go through it together.\n",
    "Feel free to try to play around as we progress to get a better feel for how things work.\n",
    "\n",
    "#### REMEMBER, THE INTERNET IS YOUR FRIEND: [Python.org Tutorials](http://docs.python.org/tutorial/)"
   ]
  },
  {
   "cell_type": "markdown",
   "metadata": {},
   "source": [
    "#### Part A: Importing Functions\n",
    "\n",
    "Python automatically loads some built‐in functions for users, e.g. ```len()```, ```range()```, ```sum()```, ```min()```, and ```max()```. However, there are also many other functions and objects that are stored in libraries that Python does not load automatically. These have many uses, such as interacting with the operating system or the user (e.g. ```sys```, ```os```); string operations (e.g. ```re```); advanced computation (e.g. ```math```, ```random```); and accessing new data types (e.g. ```datetime```, ```sets```). These are included in the default Python installation and do not have to be separately downloaded as packages and installed.\n",
    "\n",
    "To access these functions and objects, we need to import the library. We use the ```import``` function to load new libraries that are not loaded by default. This is typically done immediately after ```#!/usr/bin/python```. The library can be renamed using ```import ... as ...```, and functions and objects in the library can be accessed using a dot (.). Let’s try importing and using some functions.\n",
    "\n",
    "Follow the directions below and enter the missing information. When you are ready to run the code, hit \"```CTRL+ENTER```\" and jupyter will run your code for you:"
   ]
  },
  {
   "cell_type": "code",
   "execution_count": 6,
   "metadata": {},
   "outputs": [
    {
     "name": "stdout",
     "output_type": "stream",
     "text": [
      "sum: 15\n",
      "len: 5\n",
      "5 to the 3 power: 125.0\n",
      "Square root of 10: 3.16\n"
     ]
    }
   ],
   "source": [
    "#!/usr/bin/python\n",
    "\n",
    "#importing libraries\n",
    "import math\n",
    "import random\n",
    "import glob, sys #import multiple libraries on one line\n",
    "import re as regex #import and rename a library\n",
    "\n",
    "#example of built-in functions\n",
    "#note that we did not import them!\n",
    "number_list = [1,2,3,4,5]\n",
    "\n",
    "#print the sum\n",
    "print ('sum:', sum(number_list))\n",
    "#get the length of the list with the len() functino\n",
    "print ('len:', len(number_list))\n",
    "\n",
    "#example of imported functions\n",
    "#access objects and functions in a library with a dot (.)\n",
    "five_cubed = math.pow(5,3)\n",
    "print ('5 to the 3 power:', five_cubed)\n",
    "#get the square root of the number 10 with the sqrt() function\n",
    "square_root_10 = math.sqrt(10)\n",
    "print ('Square root of 10:', round(square_root_10, 2))\n",
    "#note that round is a built-in function!"
   ]
  },
  {
   "cell_type": "markdown",
   "metadata": {},
   "source": [
    "#### Part B: Using ```random```\n",
    "\n",
    "Now that we’ve learned how to import and access specific functions, let’s work with functions in the ```random``` library. This library implements various functions for generating pseudo‐random numbers or sequences by uniformly selecting from a range of numbers or elements, by generating a random permutation of a list, or by random sampling items from a list without replacement."
   ]
  },
  {
   "cell_type": "code",
   "execution_count": 7,
   "metadata": {},
   "outputs": [
    {
     "name": "stdout",
     "output_type": "stream",
     "text": [
      "random number between 0 and 1:  0.7223739809078673\n",
      "random integer between 1 and 100:  40\n",
      "random die roll:  3\n"
     ]
    }
   ],
   "source": [
    "#randomly generate a number between 0 and 1\n",
    "print ( 'random number between 0 and 1: ', random.random())\n",
    "\n",
    "#randomly generate an integer between (a) and (b)\n",
    "#format: random.randint(a,b)\n",
    "print( 'random integer between 1 and 100: ', random.randint(1, 100))\n",
    "\n",
    "#randomly rolling a die\n",
    "#format: randrange(start, stop, step)\n",
    "#the value of STOP is +1 your desired stopping point\n",
    "print ('random die roll: ', random.randrange(1,7))"
   ]
  },
  {
   "cell_type": "markdown",
   "metadata": {},
   "source": [
    "__Note__: because the values are being generated randomly, it is unlikely that your output will look the same every time. Try running the code multiple times – you should see the values changing!\n",
    "\n",
    "You can see now how ```random``` can be incredibly useful for making decisions, e.g. picking a number randomly for the lottery, rolling a die for a game, or choosing between \"heads\" or \"tails\" for a coin toss!"
   ]
  },
  {
   "cell_type": "markdown",
   "metadata": {},
   "source": [
    "#### Part C: using ```random``` to create a random DNA sequence\n",
    "\n",
    "Now that we’ve looked at some basic functions in ```random```, let’s use the function ```random.choice()``` to randomly choose an element from a list of elements. We can use this to build a DNA sequence by adding one random nucleotide at a time."
   ]
  },
  {
   "cell_type": "code",
   "execution_count": 19,
   "metadata": {},
   "outputs": [
    {
     "name": "stdout",
     "output_type": "stream",
     "text": [
      "random coin toss:  tails\n",
      "random nucleotide: \n",
      "random 10-mer:  GAGCACTTAT GGTTCGATAG\n"
     ]
    }
   ],
   "source": [
    "#randomly flipping a coin\n",
    "#format: random.choice(list) - literally a list of choices!\n",
    "print ('random coin toss: ', random.choice(['heads', 'tails']))\n",
    "\n",
    "#use the example above to print a random nucleotide\n",
    "print ('random nucleotide: ', )\n",
    "\n",
    "#let's build a random DNA sequence of length 10\n",
    "#initialize a variable to store your sequence\n",
    "sequence = ''\n",
    "seq2=''\n",
    "#use range() and for to have 10 turns (length 10)\n",
    "for i in range(10):\n",
    "    #add a randomly generated nucleotide to your sequence\n",
    "    sequence = sequence + random.choice(['A', 'T','G','C'])\n",
    "    seq2=seq2+random.choice(['A', 'T','G','C'])\n",
    "#print the random DNA sequence\n",
    "print ('random 10-mer: ', sequence,seq2)"
   ]
  },
  {
   "cell_type": "markdown",
   "metadata": {},
   "source": [
    "Try running your script multiple times!"
   ]
  },
  {
   "cell_type": "markdown",
   "metadata": {},
   "source": [
    "#### Part D: creating your own functions\n",
    "\n",
    "Now we know how to import libraries and functions, but what if there is no pre‐existing package that does what we want? We can write our own functions! Writing functions let’s you organize your code into discrete “blocks” which makes reading and running code easier. Also, if you have to do the same thing over and over again, with different inputs or parameters, it is useful to write a function. For example, if we want to generate 5 random DNA sequences, instead of copying and pasting our code 5 times, we could just write function and then call it 5 times.\n",
    "\n",
    "Functions are defined with ```def```, followed by a name for the function (e.g. ```generate_random_DNA```), any parameters in parentheses, and finally a colon (:). All code associated with the function is indented below ```def```. Later, the function can be called by its name, plus any necessary parameters. Functions typically have some kind of output, which the user can access by using ```return```."
   ]
  },
  {
   "cell_type": "code",
   "execution_count": 86,
   "metadata": {},
   "outputs": [
    {
     "name": "stdout",
     "output_type": "stream",
     "text": [
      "Using our own functions:\n",
      "random 10-mer:  TAGTCTGTCG\n",
      "random 10-mer:  ATCGAGGTGT\n",
      "random 10-mer:  TGTCGAACGT\n",
      "random 10-mer:  TCAGTTGCAT\n",
      "random 10-mer:  GTAGTATATT\n",
      "Saved sequence:  GGAGGAATCT\n",
      "Last five bases in rand_DNA:  AATCT\n"
     ]
    }
   ],
   "source": [
    "print ('Using our own functions:')\n",
    "\n",
    "#create a function\n",
    "#IMPORTANT: all code associated with the function is INDENTED!\n",
    "#LENGTH is a parameter that the user will supply later in the code\n",
    "def generate_random_DNA(length):\n",
    "    #initialize a variable to store the sequence\n",
    "    sequence = ''\n",
    "    #make the number of turns the length of the sequence\n",
    "    for i in range(length):\n",
    "        #add a randomly generated nucleotide to the end\n",
    "        sequence = sequence + random.choice(['A', 'T', 'C', 'G'])\n",
    "    #return the result to the user\n",
    "    return sequence\n",
    "\n",
    "#now let's use our function!\n",
    "#using a function is called CALLING the function\n",
    "#we will call our function 5 times, to make 5 random sequences\n",
    "for i in range(5):\n",
    "    print ('random 10-mer: ', generate_random_DNA(10))\n",
    "\n",
    "#we can also save the output of generate_random_DNA(10)\n",
    "rand_DNA = generate_random_DNA(10)\n",
    "#then we can change it using other functions, or print it\n",
    "print (\"Saved sequence: \", rand_DNA)\n",
    "rand_DNA_last5 = rand_DNA[-5:]\n",
    "print (\"Last five bases in rand_DNA: \", rand_DNA_last5)"
   ]
  },
  {
   "cell_type": "markdown",
   "metadata": {},
   "source": [
    "# Lab Task\n",
    "\n",
    "Using __Part C__ of this lab, you have already become familiar with using ```random``` to generate a random DNA sequence; in __Part D__, you learned how to incorporate this into your own function that can be called repeatedly. For today’s lab task, you’ll use these concepts to generate a biased DNA sequence, and then compare it to a randomly generated DNA sequence. You will make use of ```random```, write your own functions, and import pre‐existing functions, as well.\n",
    "\n",
    "Here are some functions that you will need. Be sure to run this block of code before you start work on your lab task:"
   ]
  },
  {
   "cell_type": "code",
   "execution_count": null,
   "metadata": {},
   "outputs": [],
   "source": [
    "import math\n",
    "\n",
    "#This function returns the average and standard deviation of a list of numbers\n",
    "def avg_std(numbers):\n",
    "    N = len(numbers)\n",
    "    total = sum(numbers)\n",
    "    avg = float(total) / N\n",
    "    stdev = 0.0\n",
    "    for x in numbers:\n",
    "        stdev = stdev + (x - avg)**2\n",
    "    stdev = math.sqrt(stdev / N)\n",
    "    return \"%.2f +/- %.2f\" % (avg, stdev)\n",
    "\n",
    "#This function returns a list of frequencies of Adenines in DNA sequences\n",
    "def freq_A(sequence):\n",
    "    num_A = sequence.count('A')\n",
    "    len_seq = len(sequence)\n",
    "    frequency = (float(num_A) / len_seq)\n",
    "    return frequency"
   ]
  },
  {
   "cell_type": "markdown",
   "metadata": {},
   "source": [
    "**OBJECTIVES:**\n",
    "\n",
    "In the Python cell below:\n",
    "\n",
    "1. Using ```random```, create your own function that generates random DNA sequences, exactly like we did in __Part D__ of the lab. The length of the sequence should be __variable__. __Hint__: don’t forget to ```import random```!\n",
    "2. Write a new function, called ```generate_biased_DNA```, using ```random``` to generate a DNA sequence with twice as many As than C/T/G. The length of the sequence should be variable. __Hint__: There are many ways to do this. Ultimately your goal is to have a sequence that is approximately 50% As, and the other 50% is made equally of C/T/G. __IMPORTANT__: make sure your functions are defined before calling them. It is good practice to write functions at the start of your code, not in the middle.\n",
    "3. Use a ```for``` loop to generate a random sequence of __length 20__, followed by a biased sequence of __length 20__. Make the ```for``` loop run for __10 turns__.\n",
    "4. Now we will make use of the functions ```avg_std()``` and ```freq_A()``` defined above. Within the ```for``` loop that you wrote in step 3, use the function ```freq_A()``` to count the frequency of adenines (As) in the random and biased DNA sequences. During each iteration, save the output of ```freq_A()``` for each DNA type. __Hint__: Declare lists outside the ```for``` loop, then use ```.append()``` to add the numbers to the respective lists; make sure to have one list for random DNAs, and one list for biased DNAs.\n",
    "5. Finally, use the function ```avg_std()``` to compute the average and standard deviation for each of your lists. The average frequency of adenines in the biased DNA set should be higher than in the random DNA set. Is this what you observe? Do you ever observe the numbers being similar enough that the biased DNA set looks random?\n",
    "6. When your code is working properly, save a copy of this .ipynb file and submit it on Blackboard for credit. __Don't forget to write comments!__"
   ]
  },
  {
   "cell_type": "raw",
   "metadata": {},
   "source": [
    "#An example output for part 3 may look like:\n",
    "# : random 10-mer biased 10-mer\n",
    "0 : CCGTTAACCCAATGTACACG GGCTTTAAACACAGTAGAAT\n",
    "1 : GATTACCAGTACTGACTTGT GGAATGTACAGACAACTAGC\n",
    "2 : CGCTGCCGGGTGGCGAGAAA TAGACGCATAAGAAACTAGA\n",
    "3 : TCTTATCTCGTCTGCAATCG TCAAACCATAGAAAAAACGC\n",
    "4 : AATCGAAACTCATAACGCAA AATGTGAATGTTTCAAGTAA\n",
    "5 : AGAATGGCAACGCACGTCAA ATAACATAACCGACTCAGGT\n",
    "6 : CACGACGGGCAGTTGTAAGT ACTGCGGTCTAAAGTGAAAA\n",
    "7 : CAAAAGCCAGTAAGGGGCGC AGGCGACCACGTCGGTATGA\n",
    "8 : TATCCCGGGTTGCGCTGGAA CATGGAAAAAGACACAAACA\n",
    "9 : AACGACTGTGGTCATCTGTT AACTAAATTCATAAGGAATG"
   ]
  },
  {
   "cell_type": "code",
   "execution_count": 1,
   "metadata": {},
   "outputs": [
    {
     "name": "stdout",
     "output_type": "stream",
     "text": [
      "0 : AAAAGACACAGCATCCCTGA   CACGGAAAACAAACGCTCAA\n",
      "1 : GCCGAAAGCAGTTGTGAGCG   TACGAAGAATTAATTCATAA\n",
      "2 : ATGGTACACGTTCGTGGTTT   TCGCAAACAAACAGCGAACG\n",
      "3 : AAGCGCCCGGCCGGAGGAAC   ACGGCACAGATTAAAGAAAA\n",
      "4 : AAGGGGGATCCCGGGAGACA   AACCCATCACTGCGAAACAT\n",
      "5 : ATCAGAACTCGAGGCCAAAA   AAATAGAGAACAATTGAAAT\n",
      "6 : TGGCGCCATCCTGCACTTGC   AGCATCCAATTGTAAAACAG\n",
      "7 : ACTGTTGCCTCGGAAGCCTT   GGATCAAAGATGAACCAAGT\n",
      "8 : AACAAAGCTCGAGCTATCTA   GAGAAGATGAAGGCAATAGA\n",
      "9 : GATAACTTATGGCCGTATCT   TCCTAAAAACTTAAAAATAA\n",
      "avg and standard deviation of random 0.28 +/- 0.12\n",
      "avg and standard deviation of biased 0.50 +/- 0.06\n"
     ]
    }
   ],
   "source": [
    "import random\n",
    "import math\n",
    "def generate_random_DNA(length):\n",
    "    #initialize a variable to store the sequence\n",
    "    results=''\n",
    "    #make the number of turns the length of the sequence\n",
    "    for i in range(length):\n",
    "        #add a randomly generated nucleotide to the end\n",
    "        results= results+random.choice(['A', 'T', 'C', 'G'])\n",
    "    #return the result to the user\n",
    "    return results\n",
    "    \n",
    "def generate_biased_DNA(length):\n",
    " a=['A','T','C','G']\n",
    " results=random.choices(a,weights=[3,1,1,1], k=20) # weights to generate bias DNA\n",
    " return(results)\n",
    "\n",
    "#This function returns a list of frequencies of Adenines in DNA sequences\n",
    "def freq_A(sequence):\n",
    "    num_A = sequence.count('A')\n",
    "    len_seq = len(sequence)\n",
    "    frequency = (float(num_A) / len_seq)\n",
    "    return frequency\n",
    "ra=[] # create empty list\n",
    "bia=[] # create empty list\n",
    "for i in range(10):  # print 10 times\n",
    " seq=generate_random_DNA(20)        # collection of random DNA frequency  \n",
    " ra.append(freq_A(seq))\n",
    "\n",
    " seq2=generate_biased_DNA(20)\n",
    " seq2=''.join(str(x) for x in seq2)\n",
    " bia.append(freq_A(seq2))           # collection of biased DNA frequency\n",
    " print(i,\":\",seq+\"   \"+seq2)\n",
    "\n",
    "def avg_std(numbers):\n",
    "    N = len(numbers)\n",
    "    total = sum(numbers)\n",
    "    avg = float(total) / N\n",
    "    stdev = 0.0\n",
    "    for x in numbers:\n",
    "        stdev = stdev + (x - avg)**2\n",
    "    stdev = math.sqrt(stdev / N)\n",
    "    return \"%.2f +/- %.2f\" % (avg, stdev) \n",
    "print(\"avg and standard deviation of random\",avg_std(ra))\n",
    "print(\"avg and standard deviation of biased\",avg_std(bia))\n"
   ]
  }
 ],
 "metadata": {
  "kernelspec": {
   "display_name": "Python 3",
   "language": "python",
   "name": "python3"
  },
  "language_info": {
   "codemirror_mode": {
    "name": "ipython",
    "version": 3
   },
   "file_extension": ".py",
   "mimetype": "text/x-python",
   "name": "python",
   "nbconvert_exporter": "python",
   "pygments_lexer": "ipython3",
   "version": "3.6.5"
  }
 },
 "nbformat": 4,
 "nbformat_minor": 1
}
